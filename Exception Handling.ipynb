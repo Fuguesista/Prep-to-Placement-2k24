{
 "cells": [
  {
   "cell_type": "markdown",
   "id": "58394e06",
   "metadata": {},
   "source": [
    "# Error 3 types"
   ]
  },
  {
   "cell_type": "markdown",
   "id": "18740819",
   "metadata": {},
   "source": [
    "## 1. `Syntax Error`\n",
    "###  Error caused due to syntax , when python parser found any ,Like missing colon ."
   ]
  },
  {
   "cell_type": "code",
   "execution_count": 1,
   "id": "179f3f59",
   "metadata": {},
   "outputs": [
    {
     "ename": "SyntaxError",
     "evalue": "expected ':' (3519178584.py, line 1)",
     "output_type": "error",
     "traceback": [
      "\u001b[1;36m  Cell \u001b[1;32mIn[1], line 1\u001b[1;36m\u001b[0m\n\u001b[1;33m    if x == 5  # Missing colon\u001b[0m\n\u001b[1;37m               ^\u001b[0m\n\u001b[1;31mSyntaxError\u001b[0m\u001b[1;31m:\u001b[0m expected ':'\n"
     ]
    }
   ],
   "source": [
    "if x == 5  # Missing colon\n",
    "    print(\"x is equal to 5\")"
   ]
  },
  {
   "cell_type": "markdown",
   "id": "f53bc665",
   "metadata": {},
   "source": [
    "## 2. `Logical Error`\n",
    "###  Code executed but didn't get desired result ,it's syntactically correct ,it's due to any missing logic \n"
   ]
  },
  {
   "cell_type": "code",
   "execution_count": 2,
   "id": "5909775f",
   "metadata": {},
   "outputs": [
    {
     "name": "stdout",
     "output_type": "stream",
     "text": [
      "Average: 30\n"
     ]
    }
   ],
   "source": [
    "# Calculate the average of two numbers\n",
    "num1 = 10\n",
    "num2 = 20\n",
    "average = num1 + num2  # Incorrect logic, should be (num1 + num2) / 2\n",
    "print(\"Average:\", average)"
   ]
  },
  {
   "cell_type": "markdown",
   "id": "5357fdf9",
   "metadata": {},
   "source": [
    "## 3. `Exceptions / RunTime Error`"
   ]
  },
  {
   "cell_type": "markdown",
   "id": "4906b014",
   "metadata": {},
   "source": [
    "### ` Name Error `: when a local or global name not found"
   ]
  },
  {
   "cell_type": "code",
   "execution_count": 3,
   "id": "b7770dc9",
   "metadata": {},
   "outputs": [
    {
     "ename": "NameError",
     "evalue": "name 'variable' is not defined",
     "output_type": "error",
     "traceback": [
      "\u001b[1;31m---------------------------------------------------------------------------\u001b[0m",
      "\u001b[1;31mNameError\u001b[0m                                 Traceback (most recent call last)",
      "Cell \u001b[1;32mIn[3], line 1\u001b[0m\n\u001b[1;32m----> 1\u001b[0m \u001b[38;5;28mprint\u001b[39m(variable)\n",
      "\u001b[1;31mNameError\u001b[0m: name 'variable' is not defined"
     ]
    }
   ],
   "source": [
    "print(variable)  # variable is not defined"
   ]
  },
  {
   "cell_type": "markdown",
   "id": "769ba54b",
   "metadata": {},
   "source": [
    "### `Type Error `: when operaion applied on different types of object ,Example : 10+'11'"
   ]
  },
  {
   "cell_type": "code",
   "execution_count": null,
   "id": "82446d4e",
   "metadata": {},
   "outputs": [],
   "source": [
    "result = 10 + '11'  # adding int and string\n"
   ]
  },
  {
   "cell_type": "markdown",
   "id": "33b67bd6",
   "metadata": {},
   "source": [
    "### ` Zero Division Error `: when try to divide a no by zero"
   ]
  },
  {
   "cell_type": "code",
   "execution_count": 4,
   "id": "363a95b6",
   "metadata": {},
   "outputs": [
    {
     "ename": "ZeroDivisionError",
     "evalue": "division by zero",
     "output_type": "error",
     "traceback": [
      "\u001b[1;31m---------------------------------------------------------------------------\u001b[0m",
      "\u001b[1;31mZeroDivisionError\u001b[0m                         Traceback (most recent call last)",
      "Cell \u001b[1;32mIn[4], line 1\u001b[0m\n\u001b[1;32m----> 1\u001b[0m result \u001b[38;5;241m=\u001b[39m \u001b[38;5;241m10\u001b[39m \u001b[38;5;241m/\u001b[39m \u001b[38;5;241m0\u001b[39m\n",
      "\u001b[1;31mZeroDivisionError\u001b[0m: division by zero"
     ]
    }
   ],
   "source": [
    "result = 10 / 0  # Dividing by zero"
   ]
  },
  {
   "cell_type": "markdown",
   "id": "40b13eaf",
   "metadata": {},
   "source": [
    "### ` index error `: When try to excess index out of range "
   ]
  },
  {
   "cell_type": "code",
   "execution_count": 5,
   "id": "995a6fa3",
   "metadata": {},
   "outputs": [
    {
     "ename": "IndexError",
     "evalue": "list index out of range",
     "output_type": "error",
     "traceback": [
      "\u001b[1;31m---------------------------------------------------------------------------\u001b[0m",
      "\u001b[1;31mIndexError\u001b[0m                                Traceback (most recent call last)",
      "Cell \u001b[1;32mIn[5], line 2\u001b[0m\n\u001b[0;32m      1\u001b[0m my_list \u001b[38;5;241m=\u001b[39m [\u001b[38;5;241m1\u001b[39m, \u001b[38;5;241m2\u001b[39m, \u001b[38;5;241m3\u001b[39m]\n\u001b[1;32m----> 2\u001b[0m \u001b[38;5;28mprint\u001b[39m(my_list[\u001b[38;5;241m3\u001b[39m])\n",
      "\u001b[1;31mIndexError\u001b[0m: list index out of range"
     ]
    }
   ],
   "source": [
    "my_list = [1, 2, 3]\n",
    "print(my_list[3])  # Accessing index out of range\n"
   ]
  },
  {
   "cell_type": "markdown",
   "id": "f4dca981",
   "metadata": {},
   "source": [
    "### `File not found error `: when try to open a file that not exist"
   ]
  },
  {
   "cell_type": "code",
   "execution_count": 6,
   "id": "ad472a84",
   "metadata": {},
   "outputs": [
    {
     "ename": "FileNotFoundError",
     "evalue": "[Errno 2] No such file or directory: 'nonexistent_file.txt'",
     "output_type": "error",
     "traceback": [
      "\u001b[1;31m---------------------------------------------------------------------------\u001b[0m",
      "\u001b[1;31mFileNotFoundError\u001b[0m                         Traceback (most recent call last)",
      "Cell \u001b[1;32mIn[6], line 1\u001b[0m\n\u001b[1;32m----> 1\u001b[0m file \u001b[38;5;241m=\u001b[39m \u001b[38;5;28mopen\u001b[39m(\u001b[38;5;124m\"\u001b[39m\u001b[38;5;124mnonexistent_file.txt\u001b[39m\u001b[38;5;124m\"\u001b[39m, \u001b[38;5;124m\"\u001b[39m\u001b[38;5;124mr\u001b[39m\u001b[38;5;124m\"\u001b[39m)\n",
      "File \u001b[1;32m~\\anaconda3\\Lib\\site-packages\\IPython\\core\\interactiveshell.py:286\u001b[0m, in \u001b[0;36m_modified_open\u001b[1;34m(file, *args, **kwargs)\u001b[0m\n\u001b[0;32m    279\u001b[0m \u001b[38;5;28;01mif\u001b[39;00m file \u001b[38;5;129;01min\u001b[39;00m {\u001b[38;5;241m0\u001b[39m, \u001b[38;5;241m1\u001b[39m, \u001b[38;5;241m2\u001b[39m}:\n\u001b[0;32m    280\u001b[0m     \u001b[38;5;28;01mraise\u001b[39;00m \u001b[38;5;167;01mValueError\u001b[39;00m(\n\u001b[0;32m    281\u001b[0m         \u001b[38;5;124mf\u001b[39m\u001b[38;5;124m\"\u001b[39m\u001b[38;5;124mIPython won\u001b[39m\u001b[38;5;124m'\u001b[39m\u001b[38;5;124mt let you open fd=\u001b[39m\u001b[38;5;132;01m{\u001b[39;00mfile\u001b[38;5;132;01m}\u001b[39;00m\u001b[38;5;124m by default \u001b[39m\u001b[38;5;124m\"\u001b[39m\n\u001b[0;32m    282\u001b[0m         \u001b[38;5;124m\"\u001b[39m\u001b[38;5;124mas it is likely to crash IPython. If you know what you are doing, \u001b[39m\u001b[38;5;124m\"\u001b[39m\n\u001b[0;32m    283\u001b[0m         \u001b[38;5;124m\"\u001b[39m\u001b[38;5;124myou can use builtins\u001b[39m\u001b[38;5;124m'\u001b[39m\u001b[38;5;124m open.\u001b[39m\u001b[38;5;124m\"\u001b[39m\n\u001b[0;32m    284\u001b[0m     )\n\u001b[1;32m--> 286\u001b[0m \u001b[38;5;28;01mreturn\u001b[39;00m io_open(file, \u001b[38;5;241m*\u001b[39margs, \u001b[38;5;241m*\u001b[39m\u001b[38;5;241m*\u001b[39mkwargs)\n",
      "\u001b[1;31mFileNotFoundError\u001b[0m: [Errno 2] No such file or directory: 'nonexistent_file.txt'"
     ]
    }
   ],
   "source": [
    "file = open(\"nonexistent_file.txt\", \"r\")  # Trying to open a file that doesn't exist\n"
   ]
  },
  {
   "cell_type": "markdown",
   "id": "db84ea75",
   "metadata": {},
   "source": [
    "### ` Value error `: when a function get inappropriate value"
   ]
  },
  {
   "cell_type": "code",
   "execution_count": 7,
   "id": "2e68511e",
   "metadata": {},
   "outputs": [
    {
     "ename": "ValueError",
     "evalue": "invalid literal for int() with base 10: 'abc'",
     "output_type": "error",
     "traceback": [
      "\u001b[1;31m---------------------------------------------------------------------------\u001b[0m",
      "\u001b[1;31mValueError\u001b[0m                                Traceback (most recent call last)",
      "Cell \u001b[1;32mIn[7], line 1\u001b[0m\n\u001b[1;32m----> 1\u001b[0m num \u001b[38;5;241m=\u001b[39m \u001b[38;5;28mint\u001b[39m(\u001b[38;5;124m\"\u001b[39m\u001b[38;5;124mabc\u001b[39m\u001b[38;5;124m\"\u001b[39m)\n",
      "\u001b[1;31mValueError\u001b[0m: invalid literal for int() with base 10: 'abc'"
     ]
    }
   ],
   "source": [
    "num = int(\"abc\")  # Converting a string that cannot be converted to an integer\n"
   ]
  },
  {
   "cell_type": "markdown",
   "id": "60d65eeb",
   "metadata": {},
   "source": [
    "### ` Key Error `: when try to access a dictionary using a key that not exist"
   ]
  },
  {
   "cell_type": "code",
   "execution_count": 8,
   "id": "c263d609",
   "metadata": {},
   "outputs": [
    {
     "ename": "KeyError",
     "evalue": "'c'",
     "output_type": "error",
     "traceback": [
      "\u001b[1;31m---------------------------------------------------------------------------\u001b[0m",
      "\u001b[1;31mKeyError\u001b[0m                                  Traceback (most recent call last)",
      "Cell \u001b[1;32mIn[8], line 2\u001b[0m\n\u001b[0;32m      1\u001b[0m my_dict \u001b[38;5;241m=\u001b[39m {\u001b[38;5;124m'\u001b[39m\u001b[38;5;124ma\u001b[39m\u001b[38;5;124m'\u001b[39m: \u001b[38;5;241m1\u001b[39m, \u001b[38;5;124m'\u001b[39m\u001b[38;5;124mb\u001b[39m\u001b[38;5;124m'\u001b[39m: \u001b[38;5;241m2\u001b[39m}\n\u001b[1;32m----> 2\u001b[0m \u001b[38;5;28mprint\u001b[39m(my_dict[\u001b[38;5;124m'\u001b[39m\u001b[38;5;124mc\u001b[39m\u001b[38;5;124m'\u001b[39m])\n",
      "\u001b[1;31mKeyError\u001b[0m: 'c'"
     ]
    }
   ],
   "source": [
    "my_dict = {'a': 1, 'b': 2}\n",
    "print(my_dict['c'])  # Accessing a key that doesn't exist\n"
   ]
  },
  {
   "cell_type": "markdown",
   "id": "f239fa34",
   "metadata": {},
   "source": [
    "# Exception Handling\n",
    "#### Handling runtime errors is called `exception handling` "
   ]
  },
  {
   "cell_type": "code",
   "execution_count": 9,
   "id": "c90f89b2",
   "metadata": {},
   "outputs": [
    {
     "name": "stdout",
     "output_type": "stream",
     "text": [
      "Name Error: Variable is not defined\n",
      "End of program\n"
     ]
    }
   ],
   "source": [
    "try:\n",
    "    # Name Error\n",
    "    print(variable)\n",
    "\n",
    "    # Type Error\n",
    "    result = 10 + '11'\n",
    "\n",
    "    # ZeroDivisionError\n",
    "    result = 10 / 0\n",
    "\n",
    "    # Index Error\n",
    "    my_list = [1, 2, 3]\n",
    "    print(my_list[3])\n",
    "\n",
    "    # FileNotFoundError\n",
    "    file = open(\"nonexistent_file.txt\", \"r\")\n",
    "\n",
    "    # ValueError\n",
    "    num = int(\"abc\")\n",
    "\n",
    "    # KeyError\n",
    "    my_dict = {'a': 1, 'b': 2}\n",
    "    print(my_dict['c'])\n",
    "\n",
    "except NameError:\n",
    "    print(\"Name Error: Variable is not defined\")\n",
    "except TypeError:\n",
    "    print(\"Type Error: Unsupported operation\")\n",
    "except ZeroDivisionError:\n",
    "    print(\"ZeroDivisionError: Cannot divide by zero\")\n",
    "except IndexError:\n",
    "    print(\"Index Error: Index out of range\")\n",
    "except FileNotFoundError:\n",
    "    print(\"FileNotFoundError: File not found\")\n",
    "except ValueError:\n",
    "    print(\"ValueError: Invalid value\")\n",
    "except KeyError:\n",
    "    print(\"KeyError: Key not found\")\n",
    "else:\n",
    "    print(\"No runtime errors occurred\")\n",
    "finally:\n",
    "    print(\"End of program\")"
   ]
  },
  {
   "cell_type": "code",
   "execution_count": 10,
   "id": "1dd5cf7d",
   "metadata": {},
   "outputs": [
    {
     "name": "stdout",
     "output_type": "stream",
     "text": [
      "Enter numerator: 2\n",
      "Enter denominator: 3\n",
      "Division result: 0.6666666666666666\n",
      "End of program\n"
     ]
    }
   ],
   "source": [
    "try:\n",
    "    # Division operation\n",
    "    num1 = int(input(\"Enter numerator: \"))\n",
    "    num2 = int(input(\"Enter denominator: \"))\n",
    "    result = num1 / num2\n",
    "except ZeroDivisionError:\n",
    "    print(\"Error: Cannot divide by zero!\")\n",
    "except ValueError:\n",
    "    print(\"Error: Please enter valid integers!\")\n",
    "else:\n",
    "    # Executed if no exception occurs\n",
    "    print(\"Division result:\", result)\n",
    "finally:\n",
    "    # Always executed, whether exception occurs or not\n",
    "    print(\"End of program\")"
   ]
  },
  {
   "cell_type": "markdown",
   "id": "f1df406a",
   "metadata": {},
   "source": [
    "# Raising custom Exception\n",
    "#### manually raise exception using `raise` keyword"
   ]
  },
  {
   "cell_type": "code",
   "execution_count": 11,
   "id": "c4e51cd9",
   "metadata": {},
   "outputs": [
    {
     "name": "stdout",
     "output_type": "stream",
     "text": [
      "Enter age: 0\n",
      "Age must be greater than zero\n"
     ]
    }
   ],
   "source": [
    "class MyCustomError(Exception):\n",
    "    pass\n",
    "\n",
    "def check(age):\n",
    "    if age <= 0:\n",
    "        raise MyCustomError('Age must be greater than zero')\n",
    "    return age\n",
    "\n",
    "try:\n",
    "    age = int(input(\"Enter age: \"))\n",
    "    checked = check(age)\n",
    "    print(checked)\n",
    "except MyCustomError as e:\n",
    "    print(e)"
   ]
  },
  {
   "cell_type": "code",
   "execution_count": 12,
   "id": "e01c18a3",
   "metadata": {},
   "outputs": [
    {
     "name": "stdout",
     "output_type": "stream",
     "text": [
      "Enter age: -1\n",
      "Age must be greater than zero\n"
     ]
    }
   ],
   "source": [
    "def check(age):\n",
    "    if age <= 0:\n",
    "        raise ValueError('Age must be greater than zero')\n",
    "    return age\n",
    "\n",
    "try:\n",
    "    age = int(input(\"Enter age: \"))\n",
    "    checked = check(age)\n",
    "    print(checked)\n",
    "except ValueError as e:\n",
    "    print(e)"
   ]
  }
 ],
 "metadata": {
  "kernelspec": {
   "display_name": "Python 3 (ipykernel)",
   "language": "python",
   "name": "python3"
  },
  "language_info": {
   "codemirror_mode": {
    "name": "ipython",
    "version": 3
   },
   "file_extension": ".py",
   "mimetype": "text/x-python",
   "name": "python",
   "nbconvert_exporter": "python",
   "pygments_lexer": "ipython3",
   "version": "3.11.5"
  }
 },
 "nbformat": 4,
 "nbformat_minor": 5
}
