{
 "cells": [
  {
   "cell_type": "markdown",
   "id": "45b739b0",
   "metadata": {},
   "source": [
    "# Program 1\n",
    "Write a Python program to print \"Hello Python\"."
   ]
  },
  {
   "cell_type": "code",
   "execution_count": 1,
   "id": "7ea0287e",
   "metadata": {
    "scrolled": false
   },
   "outputs": [
    {
     "name": "stdout",
     "output_type": "stream",
     "text": [
      "Hello Python !\n"
     ]
    }
   ],
   "source": [
    "print(\"Hello Python !\")"
   ]
  },
  {
   "cell_type": "markdown",
   "id": "af4fd235",
   "metadata": {},
   "source": [
    "# Program 2\n",
    "Write a Python program to do arithmetical operations addition and division."
   ]
  },
  {
   "cell_type": "code",
   "execution_count": 2,
   "id": "eb9c10da",
   "metadata": {},
   "outputs": [
    {
     "name": "stdout",
     "output_type": "stream",
     "text": [
      "Enter the first number for addition: 1\n",
      "Enter the second number for addition: 2\n",
      "sum: 1.0 + 2.0 = 3.0\n"
     ]
    }
   ],
   "source": [
    "# Addition\n",
    "num1 = float(input(\"Enter the first number for addition: \"))\n",
    "num2 = float(input(\"Enter the second number for addition: \"))\n",
    "sum_result = num1 + num2\n",
    "print(f\"sum: {num1} + {num2} = {sum_result}\")"
   ]
  },
  {
   "cell_type": "code",
   "execution_count": 3,
   "id": "44a351a0",
   "metadata": {},
   "outputs": [
    {
     "name": "stdout",
     "output_type": "stream",
     "text": [
      "Enter the dividend for division: 2\n",
      "Enter the divisor for division: 2\n",
      "Division: 2.0 / 2.0 = 1.0\n"
     ]
    }
   ],
   "source": [
    "# Division\n",
    "num3 = float(input(\"Enter the dividend for division: \"))\n",
    "num4 = float(input(\"Enter the divisor for division: \"))\n",
    "if num4==0:\n",
    "    print(\"Error: Division by zero is not allowed.\")\n",
    "else:\n",
    "    div_result = num3 / num4\n",
    "    print(f\"Division: {num3} / {num4} = {div_result}\")"
   ]
  },
  {
   "cell_type": "markdown",
   "id": "8cc574d1",
   "metadata": {},
   "source": [
    "# Program 3\n",
    "Write a Python program to find the area of a triangle."
   ]
  },
  {
   "cell_type": "code",
   "execution_count": 4,
   "id": "f7369d69",
   "metadata": {},
   "outputs": [
    {
     "name": "stdout",
     "output_type": "stream",
     "text": [
      "Enter the length of the base of the triangle: 2\n",
      "Enter the height of the triangle: 2\n",
      "The area of the triangle is: 2.0\n"
     ]
    }
   ],
   "source": [
    "# Input the base and height from the user\n",
    "base = float(input(\"Enter the length of the base of the triangle: \"))\n",
    "height = float(input(\"Enter the height of the triangle: \"))\n",
    "# Calculate the area of the triangle\n",
    "area = 0.5 * base * height\n",
    "# Display the result\n",
    "print(f\"The area of the triangle is: {area}\")"
   ]
  },
  {
   "cell_type": "markdown",
   "id": "ed3f99ec",
   "metadata": {},
   "source": [
    "# Program 4\n",
    "Write a Python program to generate a random number."
   ]
  },
  {
   "cell_type": "code",
   "execution_count": 5,
   "id": "33b773bf",
   "metadata": {},
   "outputs": [
    {
     "name": "stdout",
     "output_type": "stream",
     "text": [
      "Random no is : 77\n"
     ]
    }
   ],
   "source": [
    "import random\n",
    "print(\"Random no is :\",random.randint(1, 100))"
   ]
  },
  {
   "cell_type": "markdown",
   "id": "2160f653",
   "metadata": {},
   "source": [
    "# Program 5\n",
    "Write a Python program to swap two variables."
   ]
  },
  {
   "cell_type": "code",
   "execution_count": 6,
   "id": "545ecdfb",
   "metadata": {},
   "outputs": [
    {
     "name": "stdout",
     "output_type": "stream",
     "text": [
      "Enter the value of the first variable (a): 2\n",
      "Enter the value of the second variable (b): 2\n",
      "Original values: a = 2, b = 2\n",
      "Swapped values: a = 2, b = 2\n"
     ]
    }
   ],
   "source": [
    "# Input two variables\n",
    "a = input(\"Enter the value of the first variable (a): \")\n",
    "b = input(\"Enter the value of the second variable (b): \")\n",
    "# Display the original values\n",
    "print(f\"Original values: a = {a}, b = {b}\")\n",
    "# Swap the values using a temporary variable\n",
    "temp = a\n",
    "a = b\n",
    "b = temp\n",
    "# Display the swapped values\n",
    "print(f\"Swapped values: a = {a}, b = {b}\")"
   ]
  },
  {
   "cell_type": "markdown",
   "id": "a53e542e",
   "metadata": {},
   "source": [
    "# Program 6\n",
    "Write a Python program to swap two variables without temp variable."
   ]
  },
  {
   "cell_type": "code",
   "execution_count": 7,
   "id": "9b46a530",
   "metadata": {},
   "outputs": [
    {
     "name": "stdout",
     "output_type": "stream",
     "text": [
      "After swapping:\n",
      "a = 10\n",
      "b = 5\n"
     ]
    }
   ],
   "source": [
    "a = 5\n",
    "b = 10\n",
    "# Swapping without a temporary variable\n",
    "a, b = b, a\n",
    "print(\"After swapping:\")\n",
    "print(\"a =\", a)\n",
    "print(\"b =\", b)"
   ]
  },
  {
   "cell_type": "markdown",
   "id": "cd0728f0",
   "metadata": {},
   "source": [
    "# Program 7\n",
    "Write a Python program to convert kilometers to miles."
   ]
  },
  {
   "cell_type": "code",
   "execution_count": 8,
   "id": "fccdabac",
   "metadata": {},
   "outputs": [
    {
     "name": "stdout",
     "output_type": "stream",
     "text": [
      "Enter distance in kilometers: 2\n",
      "2.0 kilometers is equal to 1.242742 miles\n"
     ]
    }
   ],
   "source": [
    "kilometers = float(input(\"Enter distance in kilometers: \"))\n",
    "# Conversion factor: 1 kilometer = 0.621371 miles\n",
    "conversion_factor = 0.621371\n",
    "miles = kilometers * conversion_factor\n",
    "print(f\"{kilometers} kilometers is equal to {miles} miles\")"
   ]
  },
  {
   "cell_type": "markdown",
   "id": "5d0005ec",
   "metadata": {},
   "source": [
    "# Program 8\n",
    "Write a Python program to convert Celsius to Fahrenheit."
   ]
  },
  {
   "cell_type": "code",
   "execution_count": 9,
   "id": "815088e9",
   "metadata": {},
   "outputs": [
    {
     "name": "stdout",
     "output_type": "stream",
     "text": [
      "Enter temperature in Celsius: 2\n",
      "2.0 degrees Celsius is equal to 35.6 degrees Fahrenheit\n"
     ]
    }
   ],
   "source": [
    "celsius = float(input(\"Enter temperature in Celsius: \"))\n",
    "# Conversion formula: Fahrenheit = (Celsius * 9/5) + 32\n",
    "fahrenheit = (celsius * 9/5) + 32\n",
    "print(f\"{celsius} degrees Celsius is equal to {fahrenheit} degrees Fahrenheit\")"
   ]
  },
  {
   "cell_type": "markdown",
   "id": "1f722a5c",
   "metadata": {},
   "source": [
    "# Program 9\n",
    "Write a Python program to display calendar."
   ]
  },
  {
   "cell_type": "code",
   "execution_count": 10,
   "id": "f382de2d",
   "metadata": {},
   "outputs": [
    {
     "name": "stdout",
     "output_type": "stream",
     "text": [
      "Enter year: 2\n",
      "Enter month: 2\n",
      "     February 2\n",
      "Mo Tu We Th Fr Sa Su\n",
      "             1  2  3\n",
      " 4  5  6  7  8  9 10\n",
      "11 12 13 14 15 16 17\n",
      "18 19 20 21 22 23 24\n",
      "25 26 27 28\n",
      "\n"
     ]
    }
   ],
   "source": [
    "import calendar\n",
    "\n",
    "year = int(input(\"Enter year: \"))\n",
    "month = int(input(\"Enter month: \"))\n",
    "cal = calendar.month(year, month)\n",
    "print(cal)"
   ]
  },
  {
   "cell_type": "markdown",
   "id": "87025c2d",
   "metadata": {},
   "source": [
    "# Program 10\n",
    "Write a Python Program to Check if a Number is Positive, Negative or Zero."
   ]
  },
  {
   "cell_type": "code",
   "execution_count": 11,
   "id": "52802e7c",
   "metadata": {},
   "outputs": [
    {
     "name": "stdout",
     "output_type": "stream",
     "text": [
      "Enter a number: 2\n",
      "Positive number\n"
     ]
    }
   ],
   "source": [
    "num = float(input(\"Enter a number: \"))\n",
    "if num > 0:\n",
    "    print(\"Positive number\")\n",
    "elif num == 0:\n",
    "    print(\"Zero\")\n",
    "else:\n",
    "    print(\"Negative number\")"
   ]
  },
  {
   "cell_type": "markdown",
   "id": "3788d32c",
   "metadata": {},
   "source": [
    "# Program 11\n",
    "Write a Python Program to Check if a Number is Odd or Even."
   ]
  },
  {
   "cell_type": "code",
   "execution_count": 12,
   "id": "8aa041db",
   "metadata": {},
   "outputs": [
    {
     "name": "stdout",
     "output_type": "stream",
     "text": [
      "Enter a number: 2\n",
      "This is a even number\n"
     ]
    }
   ],
   "source": [
    "num = int(input(\"Enter a number: \"))\n",
    "if num%2 == 0:\n",
    "    print(\"This is a even number\")\n",
    "else:\n",
    "    print(\"This is a odd number\")"
   ]
  },
  {
   "cell_type": "markdown",
   "id": "af80df7f",
   "metadata": {},
   "source": [
    "# Program 12\n",
    "Write a Python Program to Check Leap Year."
   ]
  },
  {
   "cell_type": "code",
   "execution_count": 13,
   "id": "c840ee3c",
   "metadata": {},
   "outputs": [
    {
     "name": "stdout",
     "output_type": "stream",
     "text": [
      "Enter a year : 2\n",
      "2 is not Leap Year .\n"
     ]
    }
   ],
   "source": [
    "year = int(input(\"Enter a year : \"))\n",
    "\n",
    "if (year % 4 == 0 and (year % 100 != 0 or year % 400 == 0)):\n",
    "    print(f\"{year} is Leap Year .)\") \n",
    "else:\n",
    "    print(f\"{year} is not Leap Year .\") "
   ]
  },
  {
   "cell_type": "markdown",
   "id": "88e97452",
   "metadata": {},
   "source": [
    "# Program 13\n",
    "Write a Python Program to Display the multiplication Table"
   ]
  },
  {
   "cell_type": "code",
   "execution_count": 14,
   "id": "6960be7d",
   "metadata": {},
   "outputs": [
    {
     "name": "stdout",
     "output_type": "stream",
     "text": [
      "Enter a number :2\n",
      "2 x 0 = 0\n",
      "2 x 1 = 2\n",
      "2 x 2 = 4\n",
      "2 x 3 = 6\n",
      "2 x 4 = 8\n",
      "2 x 5 = 10\n",
      "2 x 6 = 12\n",
      "2 x 7 = 14\n",
      "2 x 8 = 16\n",
      "2 x 9 = 18\n",
      "2 x 10 = 20\n"
     ]
    }
   ],
   "source": [
    "num = int(input(\"Enter a number :\"))\n",
    "for i in range(0,11):\n",
    "    print(f\"{num} x {i} = {num*i}\")"
   ]
  },
  {
   "cell_type": "markdown",
   "id": "d0e56406",
   "metadata": {},
   "source": [
    "# Program 14\n",
    "Write a Python Program to Find the Factorial of a Number"
   ]
  },
  {
   "cell_type": "code",
   "execution_count": 15,
   "id": "b21fa7e0",
   "metadata": {},
   "outputs": [
    {
     "name": "stdout",
     "output_type": "stream",
     "text": [
      "Enter a number: 2\n",
      "The factorial of 2 is: 2\n"
     ]
    }
   ],
   "source": [
    "num = int(input(\"Enter a number: \"))\n",
    "fact = 1\n",
    "\n",
    "if num < 0:\n",
    "    print(\"Factorial does not exist for negative numbers\")\n",
    "elif num == 0:\n",
    "    print(\"Factorial of 0 is 1\")\n",
    "else:\n",
    "    for i in range(1, num + 1):\n",
    "        fact *= i\n",
    "\n",
    "    print(f\"The factorial of {num} is: {fact}\")"
   ]
  },
  {
   "cell_type": "markdown",
   "id": "31ef57d8",
   "metadata": {},
   "source": [
    "# Program 15\n",
    "Write a Python Program To Find ASCII value of a character.\n",
    "ASCII value:\n",
    "ASCII, or American Standard Code for Information Interchange, is a character encoding\n",
    "standard that uses numeric values to represent characters. Each ASCII character is\n",
    "assigned a unique 7-bit or 8-bit binary number, allowing computers to exchange information\n",
    "and display text in a consistent way. The ASCII values range from 0 to 127 (for 7-bit ASCII)\n",
    "or 0 to 255 (for 8-bit ASCII), with each value corresponding to a specific character, such as\n",
    "letters, digits, punctuation marks, and control characters."
   ]
  },
  {
   "cell_type": "code",
   "execution_count": 16,
   "id": "24a88f98",
   "metadata": {},
   "outputs": [
    {
     "name": "stdout",
     "output_type": "stream",
     "text": [
      "Enter a character to find ASCII: 2\n",
      "The ASCII value of '2' is 50\n"
     ]
    }
   ],
   "source": [
    "char = input(\"Enter a character to find ASCII: \")\n",
    "\n",
    "if len(char) == 1:\n",
    "    print(\"The ASCII value of '\" + char + \"' is\", ord(char))\n",
    "else:\n",
    "    print(\"Please enter only a single character.\")"
   ]
  },
  {
   "cell_type": "markdown",
   "id": "19c11bb8",
   "metadata": {},
   "source": [
    "# Program 16\n",
    "Write a Python Program to Make a Simple Calculator with 4 basic mathematical\n",
    "operations."
   ]
  },
  {
   "cell_type": "code",
   "execution_count": 17,
   "id": "cb992a78",
   "metadata": {},
   "outputs": [
    {
     "name": "stdout",
     "output_type": "stream",
     "text": [
      "Enter num1: 2\n",
      "Enter num2: 2\n",
      "Select operation.\n",
      "1. Add\n",
      "2. Subtract\n",
      "3. Multiply\n",
      "4. Divide\n",
      "Enter choice (1, 2, 3, 4): 2\n",
      "2 - 2 = 0\n",
      "Do you want to perform another calculation? (yes/no): 2\n",
      "Enter choice (1, 2, 3, 4): 2\n",
      "2 - 2 = 0\n",
      "Do you want to perform another calculation? (yes/no): 2\n",
      "Enter choice (1, 2, 3, 4): 2\n",
      "2 - 2 = 0\n",
      "Do you want to perform another calculation? (yes/no): 2\n",
      "Enter choice (1, 2, 3, 4): 2\n",
      "2 - 2 = 0\n",
      "Do you want to perform another calculation? (yes/no): 2\n",
      "Enter choice (1, 2, 3, 4): 2\n",
      "2 - 2 = 0\n",
      "Do you want to perform another calculation? (yes/no): 2\n",
      "Enter choice (1, 2, 3, 4): 2\n",
      "2 - 2 = 0\n",
      "Do you want to perform another calculation? (yes/no): 0\n",
      "Enter choice (1, 2, 3, 4): 2\n",
      "2 - 2 = 0\n",
      "Do you want to perform another calculation? (yes/no): 2\n",
      "Enter choice (1, 2, 3, 4): 2\n",
      "2 - 2 = 0\n",
      "Do you want to perform another calculation? (yes/no): no\n"
     ]
    }
   ],
   "source": [
    "def add(num1, num2):\n",
    "    return num1 + num2\n",
    "\n",
    "def subs(num1, num2):\n",
    "    return num1 - num2\n",
    "\n",
    "def mult(num1, num2):\n",
    "    return num1 * num2\n",
    "\n",
    "def div(num1, num2):\n",
    "    if num2 != 0:\n",
    "        return num1 / num2\n",
    "    else:\n",
    "        return \"Cannot divide by zero\"\n",
    "\n",
    "num1 = int(input(\"Enter num1: \"))\n",
    "num2 = int(input(\"Enter num2: \"))\n",
    "\n",
    "print(\"Select operation.\")\n",
    "print(\"1. Add\")\n",
    "print(\"2. Subtract\")\n",
    "print(\"3. Multiply\")\n",
    "print(\"4. Divide\")\n",
    "\n",
    "while True:\n",
    "    choice = input(\"Enter choice (1, 2, 3, 4): \")\n",
    "\n",
    "    if choice in ('1', '2', '3', '4'):\n",
    "        if choice == '1':\n",
    "            print(num1, \"+\", num2, \"=\", add(num1, num2))\n",
    "        elif choice == '2':\n",
    "            print(num1, \"-\", num2, \"=\", subs(num1, num2))\n",
    "        elif choice == '3':\n",
    "            print(num1, \"*\", num2, \"=\", mult(num1, num2))\n",
    "        else:\n",
    "            result = div(num1, num2)\n",
    "            if isinstance(result, str):\n",
    "                print(result)\n",
    "            else:\n",
    "                print(num1, \"/\", num2, \"=\", result)\n",
    "\n",
    "        next_calculation = input(\"Do you want to perform another calculation? (yes/no): \")\n",
    "        if next_calculation.lower() == \"no\":\n",
    "            break\n",
    "    else:\n",
    "        print(\"Invalid Input. Please enter a valid choice (1, 2, 3, 4).\")"
   ]
  },
  {
   "cell_type": "markdown",
   "id": "7c3db04c",
   "metadata": {},
   "source": [
    "# Program 17\n",
    "Find max in 3 nos"
   ]
  },
  {
   "cell_type": "code",
   "execution_count": 18,
   "id": "5da23890",
   "metadata": {},
   "outputs": [
    {
     "name": "stdout",
     "output_type": "stream",
     "text": [
      "Enter num1 :2\n",
      "Enter num2 :3\n",
      "Enter num3 :4\n",
      "max is 4\n"
     ]
    }
   ],
   "source": [
    "num1=int(input(\"Enter num1 :\"))\n",
    "num2=int(input(\"Enter num2 :\"))\n",
    "num3=int(input(\"Enter num3 :\"))\n",
    "if num1>num2 and num1>num3:\n",
    "    print(f\"max is {num1}\")\n",
    "elif num2>num1 and num2>num3:\n",
    "    print(f\"max is {num2}\")\n",
    "else:\n",
    "    print(f\"max is {num3}\")"
   ]
  },
  {
   "cell_type": "markdown",
   "id": "99308195",
   "metadata": {},
   "source": [
    "# Program 18\n",
    "Find min in 3 nos"
   ]
  },
  {
   "cell_type": "code",
   "execution_count": 19,
   "id": "f02a77a8",
   "metadata": {},
   "outputs": [
    {
     "name": "stdout",
     "output_type": "stream",
     "text": [
      "Enter num1 :2\n",
      "Enter num2 :3\n",
      "Enter num3 :4\n",
      "min is 2\n"
     ]
    }
   ],
   "source": [
    "num1=int(input(\"Enter num1 :\"))\n",
    "num2=int(input(\"Enter num2 :\"))\n",
    "num3=int(input(\"Enter num3 :\"))\n",
    "if num1<num2 and num1<num3:\n",
    "    print(f\"min is {num1}\")\n",
    "elif num2<num1 and num2<num3:\n",
    "    print(f\"min is {num2}\")\n",
    "else:\n",
    "    print(f\"min is {num3}\")"
   ]
  },
  {
   "cell_type": "markdown",
   "id": "3ba08a3a",
   "metadata": {},
   "source": [
    "# Program 19\n",
    "middle in 3 nos"
   ]
  },
  {
   "cell_type": "code",
   "execution_count": 20,
   "id": "54a03b1c",
   "metadata": {},
   "outputs": [
    {
     "name": "stdout",
     "output_type": "stream",
     "text": [
      "Enter num1 :2\n",
      "Enter num2 :3\n",
      "Enter num3 :4\n",
      "mid is 3\n"
     ]
    }
   ],
   "source": [
    "num1=int(input(\"Enter num1 :\"))\n",
    "num2=int(input(\"Enter num2 :\"))\n",
    "num3=int(input(\"Enter num3 :\"))\n",
    "if (num1>num2 and num1 < num3) or (num1>num3 and num2<num2):\n",
    "    print(f\"mid is {num1}\")\n",
    "elif (num2>num1 and num2<num3) or (num2>num3 and num2<num1):\n",
    "    print(f\"mid is {num2}\")\n",
    "else:\n",
    "    print(f\"mid is {num3}\")"
   ]
  },
  {
   "cell_type": "markdown",
   "id": "4cdd72fe",
   "metadata": {},
   "source": [
    "# Program 20\n",
    "print n natural no"
   ]
  },
  {
   "cell_type": "code",
   "execution_count": 21,
   "id": "a7266de8",
   "metadata": {},
   "outputs": [
    {
     "name": "stdout",
     "output_type": "stream",
     "text": [
      "Enter a no3\n",
      "0\n",
      "1\n",
      "2\n",
      "3\n"
     ]
    }
   ],
   "source": [
    "num= int(input(\"Enter a no\"))\n",
    "\n",
    "for i in range(num+1):\n",
    "    print(i)"
   ]
  },
  {
   "cell_type": "markdown",
   "id": "b39651a6",
   "metadata": {},
   "source": [
    "# Program 21\n",
    "print n natural no in reverse order"
   ]
  },
  {
   "cell_type": "code",
   "execution_count": 22,
   "id": "84c0158a",
   "metadata": {},
   "outputs": [
    {
     "name": "stdout",
     "output_type": "stream",
     "text": [
      "Enter a no3\n",
      "3\n",
      "2\n",
      "1\n"
     ]
    }
   ],
   "source": [
    "num= int(input(\"Enter a no\"))\n",
    "\n",
    "for i in range(num,0,-1):\n",
    "    print(i)"
   ]
  },
  {
   "cell_type": "markdown",
   "id": "aa2f1903",
   "metadata": {},
   "source": [
    "# Program 22\n",
    "sum of first N natural no"
   ]
  },
  {
   "cell_type": "code",
   "execution_count": 23,
   "id": "fd4ef45d",
   "metadata": {},
   "outputs": [
    {
     "name": "stdout",
     "output_type": "stream",
     "text": [
      "Enter a no3\n",
      "6\n"
     ]
    }
   ],
   "source": [
    "num= int(input(\"Enter a no\"))\n",
    "sum=0\n",
    "for i in range(num+1):\n",
    "    sum=sum+i\n",
    "print(sum)"
   ]
  },
  {
   "cell_type": "markdown",
   "id": "1fae59b5",
   "metadata": {},
   "source": [
    "# Program 23\n",
    "sum of square of first N natural no"
   ]
  },
  {
   "cell_type": "code",
   "execution_count": 24,
   "id": "36162884",
   "metadata": {},
   "outputs": [
    {
     "name": "stdout",
     "output_type": "stream",
     "text": [
      "Enter a no3\n",
      "14\n"
     ]
    }
   ],
   "source": [
    "num= int(input(\"Enter a no\"))\n",
    "sum=0\n",
    "for i in range(num+1):\n",
    "    sum=sum+i*i\n",
    "print(sum)"
   ]
  },
  {
   "cell_type": "markdown",
   "id": "f9bb7d49",
   "metadata": {},
   "source": [
    "# Program 24\n",
    "sum of cube of first N natural no"
   ]
  },
  {
   "cell_type": "code",
   "execution_count": 25,
   "id": "872fed72",
   "metadata": {},
   "outputs": [
    {
     "name": "stdout",
     "output_type": "stream",
     "text": [
      "Enter a no3\n",
      "36\n"
     ]
    }
   ],
   "source": [
    "num= int(input(\"Enter a no\"))\n",
    "sum=0\n",
    "for i in range(num+1):\n",
    "    sum=sum+i*i*i\n",
    "print(sum)"
   ]
  },
  {
   "cell_type": "markdown",
   "id": "cc78f536",
   "metadata": {},
   "source": [
    "# Program 25\n",
    "Even no from 1 to n"
   ]
  },
  {
   "cell_type": "code",
   "execution_count": 26,
   "id": "d70e3c72",
   "metadata": {},
   "outputs": [
    {
     "name": "stdout",
     "output_type": "stream",
     "text": [
      "Enter a no3\n",
      "0\n",
      "2\n"
     ]
    }
   ],
   "source": [
    "num= int(input(\"Enter a no\"))\n",
    "\n",
    "for i in range(num+1):\n",
    "    if i%2==0:\n",
    "        print(i)"
   ]
  },
  {
   "cell_type": "markdown",
   "id": "668c589a",
   "metadata": {},
   "source": [
    "# Program 26\n",
    "Odd no from 1 to n"
   ]
  },
  {
   "cell_type": "code",
   "execution_count": 27,
   "id": "92ad0b4f",
   "metadata": {},
   "outputs": [
    {
     "name": "stdout",
     "output_type": "stream",
     "text": [
      "Enter a no3\n",
      "1\n",
      "3\n"
     ]
    }
   ],
   "source": [
    "num= int(input(\"Enter a no\"))\n",
    "\n",
    "for i in range(num+1):\n",
    "    if i%2!=0:\n",
    "        print(i)"
   ]
  },
  {
   "cell_type": "markdown",
   "id": "20b88939",
   "metadata": {},
   "source": [
    "# Program 27\n",
    "Sum of Even no from 1 to n"
   ]
  },
  {
   "cell_type": "code",
   "execution_count": 28,
   "id": "9661ea79",
   "metadata": {},
   "outputs": [
    {
     "name": "stdout",
     "output_type": "stream",
     "text": [
      "Enter a no3\n",
      "2\n"
     ]
    }
   ],
   "source": [
    "num= int(input(\"Enter a no\"))\n",
    "sum=0\n",
    "for i in range(num+1):\n",
    "    if i%2==0:\n",
    "        sum+=i\n",
    "print(sum)"
   ]
  },
  {
   "cell_type": "markdown",
   "id": "b2eb17a8",
   "metadata": {},
   "source": [
    "# Program 28\n",
    "Sum of first n Even no from 1 to n"
   ]
  },
  {
   "cell_type": "code",
   "execution_count": 29,
   "id": "b6e97d54",
   "metadata": {},
   "outputs": [
    {
     "name": "stdout",
     "output_type": "stream",
     "text": [
      "Enter a range : 3\n",
      "2\n",
      "4\n",
      "6\n",
      "--------------\n",
      "sum is  12\n"
     ]
    }
   ],
   "source": [
    "num = int(input(\"Enter a range : \"))\n",
    "count = 0\n",
    "sum=0\n",
    "i=1\n",
    "while(count<num):\n",
    "    if i%2==0:\n",
    "        print(i)\n",
    "        sum = sum+i\n",
    "        count = count + 1\n",
    "    i+=1\n",
    "    \n",
    "print(\"--------------\")\n",
    "print(\"sum is \",sum)"
   ]
  },
  {
   "cell_type": "markdown",
   "id": "56269194",
   "metadata": {},
   "source": [
    "# Program 29\n",
    "sum of digits of a no"
   ]
  },
  {
   "cell_type": "code",
   "execution_count": 30,
   "id": "365c0eb6",
   "metadata": {},
   "outputs": [
    {
     "name": "stdout",
     "output_type": "stream",
     "text": [
      "Enter a no :3\n",
      "3\n"
     ]
    }
   ],
   "source": [
    "num = int(input(\"Enter a no :\"))\n",
    "\n",
    "sum=0\n",
    "while(num>0):\n",
    "    sum=sum+num%10\n",
    "    num=num//10\n",
    "    \n",
    "print(sum)"
   ]
  },
  {
   "cell_type": "markdown",
   "id": "9d1a89e7",
   "metadata": {},
   "source": [
    "# Program 30\n",
    "sum of square of digits of a no"
   ]
  },
  {
   "cell_type": "code",
   "execution_count": 31,
   "id": "1fab20ac",
   "metadata": {},
   "outputs": [
    {
     "name": "stdout",
     "output_type": "stream",
     "text": [
      "Enter a no  :3\n",
      "9\n"
     ]
    }
   ],
   "source": [
    "n = int(input(\"Enter a no  :\"))\n",
    "\n",
    "sum=0\n",
    "while(n>0):\n",
    "    sum=sum+(n%10)*(n%10)\n",
    "    n=n//10\n",
    "print(sum)"
   ]
  },
  {
   "cell_type": "markdown",
   "id": "cd5eb28e",
   "metadata": {},
   "source": [
    "# Program 31\n",
    "sum of cube of digits of a no"
   ]
  },
  {
   "cell_type": "code",
   "execution_count": 32,
   "id": "08eae50c",
   "metadata": {},
   "outputs": [
    {
     "name": "stdout",
     "output_type": "stream",
     "text": [
      "Enter a no  :3\n",
      "27\n"
     ]
    }
   ],
   "source": [
    "n = int(input(\"Enter a no  :\"))\n",
    "\n",
    "sum=0\n",
    "while(n>0):\n",
    "    sum=sum+(n%10)*(n%10)*(n%10)\n",
    "    n=n//10\n",
    "print(sum)"
   ]
  },
  {
   "cell_type": "markdown",
   "id": "60738671",
   "metadata": {},
   "source": [
    "# Program 32\n",
    "Check a no is armstrong or not (3Digit)"
   ]
  },
  {
   "cell_type": "code",
   "execution_count": 33,
   "id": "307eb10a",
   "metadata": {},
   "outputs": [
    {
     "name": "stdout",
     "output_type": "stream",
     "text": [
      "Enter a no  :3\n",
      "Not Armstrong No 🐍\n"
     ]
    }
   ],
   "source": [
    "n = int(input(\"Enter a no  :\"))\n",
    "\n",
    "x=n\n",
    "\n",
    "sum=0\n",
    "while(n>0):\n",
    "    sum=sum+(n%10)*(n%10)*(n%10)\n",
    "    n=n//10\n",
    "\n",
    "if x==sum:\n",
    "    print(\"Armstrong no 🐍\")\n",
    "else:\n",
    "    print(\"Not Armstrong No 🐍\")"
   ]
  },
  {
   "cell_type": "markdown",
   "id": "8f16dd50",
   "metadata": {},
   "source": [
    "# Program 33\n",
    "Check a no is armstrong or not"
   ]
  },
  {
   "cell_type": "code",
   "execution_count": null,
   "id": "b7aedc78",
   "metadata": {},
   "outputs": [],
   "source": []
  },
  {
   "cell_type": "markdown",
   "id": "3d543369",
   "metadata": {},
   "source": [
    "# Program 34\n",
    "Product of digit of a no"
   ]
  },
  {
   "cell_type": "code",
   "execution_count": 34,
   "id": "5859e70f",
   "metadata": {},
   "outputs": [
    {
     "name": "stdout",
     "output_type": "stream",
     "text": [
      "Enter a no :333\n",
      "27\n"
     ]
    }
   ],
   "source": [
    "num = int(input(\"Enter a no :\"))\n",
    "prod=1\n",
    "\n",
    "while(num>0):\n",
    "    prod=prod*(num%10)\n",
    "    num=num//10\n",
    "print(prod)"
   ]
  },
  {
   "cell_type": "markdown",
   "id": "2b6285a1",
   "metadata": {},
   "source": [
    "# Program 35\n",
    "Reverse a no"
   ]
  },
  {
   "cell_type": "code",
   "execution_count": 35,
   "id": "4e64490b",
   "metadata": {},
   "outputs": [
    {
     "name": "stdout",
     "output_type": "stream",
     "text": [
      "Enter a no :3334\n",
      "4333\n"
     ]
    }
   ],
   "source": [
    "num = int(input(\"Enter a no :\"))\n",
    "rev = 0\n",
    "while num>0:\n",
    "    rev=rev*10+num%10\n",
    "    num=num//10\n",
    "print(rev)"
   ]
  },
  {
   "cell_type": "markdown",
   "id": "76a0663c",
   "metadata": {},
   "source": [
    "# Program 36\n",
    "Palindrome or not"
   ]
  },
  {
   "cell_type": "code",
   "execution_count": 36,
   "id": "e71d2f91",
   "metadata": {},
   "outputs": [
    {
     "name": "stdout",
     "output_type": "stream",
     "text": [
      "Enter a no 3345\n",
      "Not Palindrome\n"
     ]
    }
   ],
   "source": [
    "num = int(input(\"Enter a no \"))\n",
    "x = num\n",
    "rev =0\n",
    "while(num>0):\n",
    "    rev = rev*10+num%10\n",
    "    num=num//10\n",
    "if rev==x:\n",
    "    print(\"palindrome no :\")\n",
    "else:\n",
    "    print(\"Not Palindrome\")"
   ]
  },
  {
   "cell_type": "markdown",
   "id": "223485f5",
   "metadata": {},
   "source": [
    "# Program 37\n",
    "prime no or not"
   ]
  },
  {
   "cell_type": "code",
   "execution_count": 37,
   "id": "c40cbbd9",
   "metadata": {},
   "outputs": [
    {
     "name": "stdout",
     "output_type": "stream",
     "text": [
      "Enter a no 22\n",
      "Not Prime no \n"
     ]
    }
   ],
   "source": [
    "num = int(input(\"Enter a no \"))\n",
    "count=0\n",
    "\n",
    "for i in range(1,num+1):\n",
    "    if num%i==0:\n",
    "        count+=1\n",
    "\n",
    "if count==2:\n",
    "    print(\"Prime no \")\n",
    "else:\n",
    "    print(\"Not Prime no \")"
   ]
  },
  {
   "cell_type": "markdown",
   "id": "b31ad69f",
   "metadata": {},
   "source": [
    "# Program 38\n",
    "perfect no or not"
   ]
  },
  {
   "cell_type": "code",
   "execution_count": 38,
   "id": "3338b341",
   "metadata": {},
   "outputs": [
    {
     "name": "stdout",
     "output_type": "stream",
     "text": [
      "Enter a no :222\n",
      "Not perfect :\n"
     ]
    }
   ],
   "source": [
    "n=int(input(\"Enter a no :\"))\n",
    "\n",
    "sum=0\n",
    "for i in range(1,n):\n",
    "    if (n%i==0):\n",
    "        sum=sum+i\n",
    "if sum==n:\n",
    "    print(\"Perfect\")\n",
    "else:\n",
    "    print(\"Not perfect :\")\n",
    "    "
   ]
  },
  {
   "cell_type": "markdown",
   "id": "5d7733ae",
   "metadata": {},
   "source": [
    "# Program 39\n",
    "Fibonnaci no"
   ]
  },
  {
   "cell_type": "code",
   "execution_count": 39,
   "id": "a9bc1d8b",
   "metadata": {},
   "outputs": [
    {
     "name": "stdout",
     "output_type": "stream",
     "text": [
      "Enter a no :345\n",
      "0\n",
      "1\n",
      "1\n",
      "2\n",
      "3\n",
      "5\n",
      "8\n",
      "13\n",
      "21\n",
      "34\n",
      "55\n",
      "89\n",
      "144\n",
      "233\n"
     ]
    }
   ],
   "source": [
    "n=int(input(\"Enter a no :\"))\n",
    "x=0\n",
    "y=1\n",
    "z=0\n",
    "while(z<=n):\n",
    "    print(z)\n",
    "    x=y\n",
    "    y=z\n",
    "    z=x+y"
   ]
  },
  {
   "cell_type": "markdown",
   "id": "eaf2cf32",
   "metadata": {},
   "source": [
    "# program 40\n",
    "GCD"
   ]
  },
  {
   "cell_type": "code",
   "execution_count": 40,
   "id": "4782ea61",
   "metadata": {},
   "outputs": [
    {
     "name": "stdout",
     "output_type": "stream",
     "text": [
      "enter num1 2\n",
      "enter num2 4\n",
      "The GCD of 2 and 4 is: 2\n"
     ]
    }
   ],
   "source": [
    "def gcd(a, b):\n",
    "    while b:\n",
    "        a, b = b, a % b\n",
    "    return a\n",
    "\n",
    "# Example usage:\n",
    "num1 = int(input(\"enter num1 \"))\n",
    "num2 = int(input(\"enter num2 \"))\n",
    "\n",
    "result = gcd(num1, num2)\n",
    "print(f\"The GCD of {num1} and {num2} is: {result}\")"
   ]
  },
  {
   "cell_type": "markdown",
   "id": "4dad2e9a",
   "metadata": {},
   "source": [
    "# Program 41\n",
    "## Write a Python Program to Find Factorial of Number Using Recursion.\n",
    "𝑛! = 𝑛 × (𝑛 − 1) × (𝑛 − 2) × … × 3 × 2 × 1"
   ]
  },
  {
   "cell_type": "code",
   "execution_count": 41,
   "id": "f0da2ded",
   "metadata": {},
   "outputs": [
    {
     "name": "stdout",
     "output_type": "stream",
     "text": [
      "-ve no not allowed \n"
     ]
    }
   ],
   "source": [
    "def factorial(num):\n",
    "    if num<0:\n",
    "        print(\"-ve no not allowed \")\n",
    "    elif num ==1:\n",
    "        return 1\n",
    "    else:\n",
    "        return num * factorial(num-1)\n",
    "factorial(-4)"
   ]
  },
  {
   "cell_type": "markdown",
   "id": "fa7716ce",
   "metadata": {},
   "source": [
    "# Program 42\n",
    "Write a Python Program to calculate the natural logarithm of any number."
   ]
  },
  {
   "cell_type": "code",
   "execution_count": 42,
   "id": "17c64dff",
   "metadata": {},
   "outputs": [
    {
     "name": "stdout",
     "output_type": "stream",
     "text": [
      "Enter a no 23\n",
      "The natural logarithm of 23.0 is: 3.1354942159291497\n"
     ]
    }
   ],
   "source": [
    "import math\n",
    "\n",
    "num = float(input(\"Enter a no \"))\n",
    "if num <= 0:\n",
    "    \n",
    "    print(\"Please enter a positive number.\")\n",
    "else:\n",
    "    result = math.log(num)\n",
    "    print(f\"The natural logarithm of {num} is: {result}\")"
   ]
  },
  {
   "cell_type": "markdown",
   "id": "e36fb2d6",
   "metadata": {},
   "source": [
    "# Program 43\n",
    "Write a Python Program to Find fibonacci no Number Using Recursion."
   ]
  },
  {
   "cell_type": "code",
   "execution_count": 44,
   "id": "ffcb8449",
   "metadata": {},
   "outputs": [
    {
     "data": {
      "text/plain": [
       "89"
      ]
     },
     "execution_count": 44,
     "metadata": {},
     "output_type": "execute_result"
    }
   ],
   "source": [
    "def fibinacci(no):\n",
    "    if no<=1:\n",
    "        return no\n",
    "    else:\n",
    "        return fibinacci(no-1) + fibinacci(no-2)\n",
    "result=fibinacci(11)\n",
    "result"
   ]
  }
 ],
 "metadata": {
  "kernelspec": {
   "display_name": "Python 3 (ipykernel)",
   "language": "python",
   "name": "python3"
  },
  "language_info": {
   "codemirror_mode": {
    "name": "ipython",
    "version": 3
   },
   "file_extension": ".py",
   "mimetype": "text/x-python",
   "name": "python",
   "nbconvert_exporter": "python",
   "pygments_lexer": "ipython3",
   "version": "3.11.5"
  }
 },
 "nbformat": 4,
 "nbformat_minor": 5
}
