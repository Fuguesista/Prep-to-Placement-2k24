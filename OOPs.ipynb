{
 "cells": [
  {
   "cell_type": "markdown",
   "id": "db9a6d24",
   "metadata": {},
   "source": [
    "# Class and Object"
   ]
  },
  {
   "cell_type": "markdown",
   "id": "d077c4e7",
   "metadata": {},
   "source": [
    "#### class is a factory that produces objects ,It is a blueprint to create a object.\n",
    "#### Object is the instance of a class"
   ]
  },
  {
   "cell_type": "markdown",
   "id": "e85298c0",
   "metadata": {},
   "source": [
    "### Class Attribute : shared by all instance of class `obj._dict_`\n",
    "### Instance Attribute : belong to specific instance of a class `class._dict_`"
   ]
  },
  {
   "cell_type": "code",
   "execution_count": 9,
   "id": "8dda2f56",
   "metadata": {},
   "outputs": [
    {
     "name": "stdout",
     "output_type": "stream",
     "text": [
      "udaya   call by Object \n",
      "1.5   call by Class \n",
      "1.5   call by Object \n",
      "None   call by Object \n"
     ]
    }
   ],
   "source": [
    "class Emp:\n",
    "    inc=1.5\n",
    "    def __init__(self,name):\n",
    "        self.name=name\n",
    "    def increase(self):\n",
    "        pass\n",
    "\n",
    "obj = Emp('udaya')\n",
    "print(obj.name,\"  call by Object \")\n",
    "\n",
    "print(Emp.inc,\"  call by Class \")\n",
    "\n",
    "print(obj.inc,\"  call by Object \")\n",
    "print(obj.increase(),\"  call by Object \")"
   ]
  },
  {
   "cell_type": "code",
   "execution_count": 12,
   "id": "a3c1209e",
   "metadata": {},
   "outputs": [
    {
     "data": {
      "text/plain": [
       "{'name': 'udaya'}"
      ]
     },
     "execution_count": 12,
     "metadata": {},
     "output_type": "execute_result"
    }
   ],
   "source": [
    "#Instance Attribute\n",
    "\n",
    "obj.__dict__"
   ]
  },
  {
   "cell_type": "code",
   "execution_count": 13,
   "id": "9e464440",
   "metadata": {},
   "outputs": [
    {
     "data": {
      "text/plain": [
       "mappingproxy({'__module__': '__main__',\n",
       "              'inc': 1.5,\n",
       "              '__init__': <function __main__.Emp.__init__(self, name)>,\n",
       "              'increase': <function __main__.Emp.increase(self)>,\n",
       "              '__dict__': <attribute '__dict__' of 'Emp' objects>,\n",
       "              '__weakref__': <attribute '__weakref__' of 'Emp' objects>,\n",
       "              '__doc__': None})"
      ]
     },
     "execution_count": 13,
     "metadata": {},
     "output_type": "execute_result"
    }
   ],
   "source": [
    "# Class Attribute\n",
    "\n",
    "Emp.__dict__"
   ]
  },
  {
   "cell_type": "markdown",
   "id": "f25df940",
   "metadata": {},
   "source": [
    "## Methods\n",
    "#### Methods are functions that belongs to the class"
   ]
  },
  {
   "cell_type": "markdown",
   "id": "e7f60d5e",
   "metadata": {},
   "source": [
    "### Types of methods / Decorators"
   ]
  },
  {
   "cell_type": "markdown",
   "id": "c94bd6bc",
   "metadata": {},
   "source": [
    "### 1. Class method\n",
    "\n",
    "#### do not need an instance to execute\n",
    "#### use cls "
   ]
  },
  {
   "cell_type": "code",
   "execution_count": 1,
   "id": "4fc67a08",
   "metadata": {},
   "outputs": [
    {
     "name": "stdout",
     "output_type": "stream",
     "text": [
      "Class method\n"
     ]
    }
   ],
   "source": [
    "class class_method:\n",
    "    no=2\n",
    "    @classmethod\n",
    "    def check(cls):\n",
    "        print(\"Class method\")\n",
    "        \n",
    "class_method.check()"
   ]
  },
  {
   "cell_type": "markdown",
   "id": "db1ee948",
   "metadata": {},
   "source": [
    "#### 1.1. As alternate constructor"
   ]
  },
  {
   "cell_type": "code",
   "execution_count": 7,
   "id": "dba692d9",
   "metadata": {},
   "outputs": [
    {
     "name": "stdout",
     "output_type": "stream",
     "text": [
      "<__main__.alternate_constructor object at 0x000001A166BC3AD0>\n",
      "21\n"
     ]
    }
   ],
   "source": [
    "class alternate_constructor:\n",
    "    def __init__(self, name):\n",
    "        self.name = name\n",
    "        \n",
    "    @classmethod\n",
    "    def check(cls, age):\n",
    "        return age\n",
    "\n",
    "# Create an instance of the class\n",
    "obj = alternate_constructor(\"Mansi\")\n",
    "print(obj)\n",
    "\n",
    "# Call the check method by passing age as an argument\n",
    "clss = alternate_constructor.check(21)\n",
    "print(clss)"
   ]
  },
  {
   "cell_type": "markdown",
   "id": "87d8e777",
   "metadata": {},
   "source": [
    "#### 1.2 Factory and Singletone pattern"
   ]
  },
  {
   "cell_type": "code",
   "execution_count": null,
   "id": "bcd692d5",
   "metadata": {},
   "outputs": [],
   "source": []
  },
  {
   "cell_type": "markdown",
   "id": "c91e7999",
   "metadata": {},
   "source": [
    "### 2. Static method\n",
    "\n",
    "#### act as regular functions but declared inside class\n",
    "#### they don't operate on instance of class \n",
    "#### no need to pass cls or self argument"
   ]
  },
  {
   "cell_type": "code",
   "execution_count": 2,
   "id": "037de0a9",
   "metadata": {},
   "outputs": [
    {
     "data": {
      "text/plain": [
       "18"
      ]
     },
     "execution_count": 2,
     "metadata": {},
     "output_type": "execute_result"
    }
   ],
   "source": [
    "class static_method:\n",
    "    x=3\n",
    "    @staticmethod\n",
    "    def checking(y):\n",
    "        return y*static_method.x\n",
    "\n",
    "static_method.checking(6)"
   ]
  },
  {
   "cell_type": "markdown",
   "id": "b2400781",
   "metadata": {},
   "source": [
    "### 3. Instance method\n",
    "\n",
    "#### declared inside class\n",
    "#### use self, and bound to instance of class"
   ]
  },
  {
   "cell_type": "code",
   "execution_count": 4,
   "id": "f068a743",
   "metadata": {},
   "outputs": [
    {
     "name": "stdout",
     "output_type": "stream",
     "text": [
      "udaya\n"
     ]
    }
   ],
   "source": [
    "class static_method:\n",
    "    def __init__(self,name):\n",
    "        self.name=name\n",
    "    def checked(self):\n",
    "        print(self.name)\n",
    "\n",
    "obj=static_method('udaya')\n",
    "obj.checked()"
   ]
  },
  {
   "cell_type": "markdown",
   "id": "12d7b0ef",
   "metadata": {},
   "source": [
    "## 4 pillers of OOP\n",
    "#### 1. Inheritance\n",
    "#### 2. pollymorphism\n",
    "#### 3. Encapsulation\n",
    "#### 4. Abstraction"
   ]
  },
  {
   "cell_type": "markdown",
   "id": "0c4ba1d1",
   "metadata": {},
   "source": [
    "## `Inheritance`\n",
    "#### Inheriting attributes and methods from base class to a derived class called inheritance"
   ]
  },
  {
   "cell_type": "markdown",
   "id": "67292ad8",
   "metadata": {},
   "source": [
    "### 1.1 Single Inheritance\n",
    "#### Inheriting from single parent class"
   ]
  },
  {
   "cell_type": "code",
   "execution_count": 9,
   "id": "5c0e5cfc",
   "metadata": {},
   "outputs": [
    {
     "name": "stdout",
     "output_type": "stream",
     "text": [
      "Dogesh \n"
     ]
    }
   ],
   "source": [
    "class Animal:\n",
    "    def __init__(self,types):\n",
    "        self.types=types\n",
    "    def sound(self):\n",
    "        pass\n",
    "class dog(Animal):\n",
    "    def name(self):\n",
    "        print(self.types)\n",
    "        \n",
    "obj = dog(\"Dogesh \")\n",
    "obj.name()"
   ]
  },
  {
   "cell_type": "markdown",
   "id": "47407a91",
   "metadata": {},
   "source": [
    "### 1.2 Multiple Inheritance\n",
    "#### One sub class Inheriting from multiple parent class"
   ]
  },
  {
   "cell_type": "code",
   "execution_count": 12,
   "id": "8e5f8e35",
   "metadata": {},
   "outputs": [
    {
     "name": "stdout",
     "output_type": "stream",
     "text": [
      "Animal can't swim \n"
     ]
    }
   ],
   "source": [
    "class Animal:\n",
    "    def __init__(self,name):\n",
    "        self.name=name\n",
    "    def swim(self):\n",
    "        print(\"Animal can't swim \")\n",
    "class Flies:\n",
    "    def __init__(self,name):\n",
    "        self.name=name\n",
    "    def fly(self):\n",
    "        print(\"Flies can fly \")\n",
    "class check(Animal,Flies):\n",
    "    pass\n",
    "\n",
    "obj = check(\"kuku\")\n",
    "obj.swim()"
   ]
  },
  {
   "cell_type": "markdown",
   "id": "9771f928",
   "metadata": {},
   "source": [
    "### 1.2.1 Diamond Problem\n",
    "#### it arrises when a class inherits from two or more classes having same ansestors"
   ]
  },
  {
   "cell_type": "code",
   "execution_count": 14,
   "id": "bed5f101",
   "metadata": {},
   "outputs": [
    {
     "name": "stdout",
     "output_type": "stream",
     "text": [
      "Method from class B\n"
     ]
    }
   ],
   "source": [
    "class A:\n",
    "    def method(self):\n",
    "        print(\"Method from class A\")\n",
    "\n",
    "class B(A):\n",
    "    def method(self):\n",
    "        print(\"Method from class B\")\n",
    "\n",
    "class C(A):\n",
    "    def method(self):\n",
    "        print(\"Methos from class C\")\n",
    "class D(B,C):\n",
    "    pass\n",
    "\n",
    "obj = D()\n",
    "obj.method()"
   ]
  },
  {
   "cell_type": "markdown",
   "id": "34c7f43a",
   "metadata": {},
   "source": [
    "### 1.3 Multilevel Inheritance\n",
    "#### Inheriting from parent class of parent class\n",
    "#### A-->B-->C"
   ]
  },
  {
   "cell_type": "code",
   "execution_count": 15,
   "id": "7a7206de",
   "metadata": {},
   "outputs": [
    {
     "name": "stdout",
     "output_type": "stream",
     "text": [
      "A\n"
     ]
    }
   ],
   "source": [
    "class A:\n",
    "    def method(self):\n",
    "        print(\"A\")\n",
    "class B(A):\n",
    "    def method1(self):\n",
    "        print(\"B\")\n",
    "class C(B):\n",
    "    def method2(self):\n",
    "        print(\"C\")\n",
    "\n",
    "obj=C()\n",
    "obj.method()"
   ]
  },
  {
   "cell_type": "markdown",
   "id": "415eb35b",
   "metadata": {},
   "source": [
    "### 1.4 Hierarchical Inheritance\n",
    "#### multiple sub classes inheriting from same parent class\n",
    "#### A-->B  A-->C"
   ]
  },
  {
   "cell_type": "code",
   "execution_count": 18,
   "id": "d747e050",
   "metadata": {},
   "outputs": [
    {
     "name": "stdout",
     "output_type": "stream",
     "text": [
      "A\n",
      "None\n",
      "A\n",
      "None\n"
     ]
    }
   ],
   "source": [
    "class A:\n",
    "    def method(self):\n",
    "        print(\"A\")\n",
    "class B(A):\n",
    "    def check(self):\n",
    "        pass\n",
    "class C(A):\n",
    "    def checking(self):\n",
    "        pass\n",
    "\n",
    "obj = B()\n",
    "print(obj.method())\n",
    "\n",
    "obj2 = C()\n",
    "print(obj2.method())"
   ]
  },
  {
   "cell_type": "markdown",
   "id": "c53cdefb",
   "metadata": {},
   "source": [
    "### 1.4.1 MRO ( Method resolution order )"
   ]
  },
  {
   "cell_type": "code",
   "execution_count": 20,
   "id": "db9c12de",
   "metadata": {},
   "outputs": [
    {
     "name": "stdout",
     "output_type": "stream",
     "text": [
      "[<class '__main__.D'>, <class '__main__.B'>, <class '__main__.C'>, <class '__main__.A'>, <class 'object'>]\n"
     ]
    },
    {
     "data": {
      "text/plain": [
       "<__main__.D at 0x1a167b45fd0>"
      ]
     },
     "execution_count": 20,
     "metadata": {},
     "output_type": "execute_result"
    }
   ],
   "source": [
    "class A:\n",
    "    pass\n",
    "\n",
    "class B(A):\n",
    "    pass\n",
    "\n",
    "class C(A):\n",
    "    pass\n",
    "\n",
    "class D(B, C):\n",
    "    pass\n",
    "\n",
    "print(D.mro())\n",
    "\n",
    "obj = D()\n",
    "obj"
   ]
  },
  {
   "cell_type": "markdown",
   "id": "331f6791",
   "metadata": {},
   "source": [
    "### 1.4.2 Dunder Method\n",
    "#### Dunder methods, short for \"double underscore methods,\" are special methods in Python that are surrounded by double underscores (e.g., __init__, __repr__). \n",
    "#### These methods provide functionality to customize the behavior of objects in various ways, \n",
    "#### such as operator overloading, object initialization, representation, and more."
   ]
  },
  {
   "cell_type": "code",
   "execution_count": 21,
   "id": "8b726bae",
   "metadata": {},
   "outputs": [
    {
     "name": "stdout",
     "output_type": "stream",
     "text": [
      "MyClass(5)\n",
      "MyClass(15)\n",
      "False\n"
     ]
    }
   ],
   "source": [
    "class MyClass:\n",
    "    def __init__(self, value):\n",
    "        self.value = value\n",
    "    \n",
    "    def __repr__(self):\n",
    "        return f\"MyClass({self.value})\"\n",
    "    \n",
    "    def __add__(self, other):\n",
    "        return MyClass(self.value + other.value)\n",
    "    \n",
    "    def __eq__(self, other):\n",
    "        return self.value == other.value\n",
    "\n",
    "obj1 = MyClass(5)\n",
    "obj2 = MyClass(10)\n",
    "\n",
    "print(obj1)\n",
    "print(obj1 + obj2)\n",
    "print(obj1 == obj2)"
   ]
  },
  {
   "cell_type": "markdown",
   "id": "b1cd6a37",
   "metadata": {},
   "source": [
    "## 2. `Pollymorphism`\n",
    "#### pollymorphism means ability to take various forms\n",
    "#### Same object having different behavious\n",
    "#### print(5+5) --> 10\n",
    "#### print('5'+'5') --> '55'\n",
    "#### object is 5 but have different forms"
   ]
  },
  {
   "cell_type": "markdown",
   "id": "2d1826c7",
   "metadata": {},
   "source": [
    "### Types"
   ]
  },
  {
   "cell_type": "markdown",
   "id": "b52d9ad1",
   "metadata": {},
   "source": [
    "### 2.1 `Compile Time Pollymorphism`\n",
    "#### resolved during compile time\n",
    "#### It is also known as static or early binding"
   ]
  },
  {
   "cell_type": "markdown",
   "id": "16f2d8eb",
   "metadata": {},
   "source": [
    "### 2.1.1 `Method Overloading`\n",
    "#### when a class has multiple methods having same name and different parameters\n",
    "#### Python doesn't support it"
   ]
  },
  {
   "cell_type": "code",
   "execution_count": 27,
   "id": "0ac5ae15",
   "metadata": {},
   "outputs": [
    {
     "name": "stdout",
     "output_type": "stream",
     "text": [
      "6\n"
     ]
    },
    {
     "ename": "TypeError",
     "evalue": "MO.add() missing 1 required positional argument: 'c'",
     "output_type": "error",
     "traceback": [
      "\u001b[1;31m---------------------------------------------------------------------------\u001b[0m",
      "\u001b[1;31mTypeError\u001b[0m                                 Traceback (most recent call last)",
      "Cell \u001b[1;32mIn[27], line 9\u001b[0m\n\u001b[0;32m      7\u001b[0m obj \u001b[38;5;241m=\u001b[39m MO()\n\u001b[0;32m      8\u001b[0m \u001b[38;5;28mprint\u001b[39m(obj\u001b[38;5;241m.\u001b[39madd(\u001b[38;5;241m1\u001b[39m,\u001b[38;5;241m2\u001b[39m,\u001b[38;5;241m3\u001b[39m))\n\u001b[1;32m----> 9\u001b[0m \u001b[38;5;28mprint\u001b[39m(obj\u001b[38;5;241m.\u001b[39madd(\u001b[38;5;241m1\u001b[39m,\u001b[38;5;241m3\u001b[39m))\n",
      "\u001b[1;31mTypeError\u001b[0m: MO.add() missing 1 required positional argument: 'c'"
     ]
    }
   ],
   "source": [
    "class MO:\n",
    "    def add(self,a,b):\n",
    "        return a+b\n",
    "    def add(self,a,b,c):\n",
    "        return a+b+c\n",
    "\n",
    "obj = MO()\n",
    "print(obj.add(1,2,3))\n",
    "print(obj.add(1,3))"
   ]
  },
  {
   "cell_type": "markdown",
   "id": "a39802eb",
   "metadata": {},
   "source": [
    "### 2.1.2 `Operator Overloading`\n",
    "#### Operator overloading is a feature in Python that allows you to define custom behavior for operators when applied to objects of user-defined classes. \n",
    "#### This means you can use standard operators such as +, -, *, /, ==, <, etc., with objects of your own classes."
   ]
  },
  {
   "cell_type": "code",
   "execution_count": 28,
   "id": "8b001115",
   "metadata": {},
   "outputs": [
    {
     "name": "stdout",
     "output_type": "stream",
     "text": [
      "<__main__.Vector object at 0x000001A16653E2D0>\n",
      "<__main__.Vector object at 0x000001A166598ED0>\n",
      "<__main__.Vector object at 0x000001A1666FED50>\n",
      "False\n"
     ]
    }
   ],
   "source": [
    "class Vector:\n",
    "    def __init__(self, x, y):\n",
    "        self.x = x\n",
    "        self.y = y\n",
    "    \n",
    "    def __add__(self, other):\n",
    "        return Vector(self.x + other.x, self.y + other.y)\n",
    "    \n",
    "    def __sub__(self, other):\n",
    "        return Vector(self.x - other.x, self.y - other.y)\n",
    "    \n",
    "    def __mul__(self, scalar):\n",
    "        return Vector(self.x * scalar, self.y * scalar)\n",
    "    \n",
    "    def __eq__(self, other):\n",
    "        return self.x == other.x and self.y == other.y\n",
    "\n",
    "\n",
    "v1 = Vector(2, 3)\n",
    "v2 = Vector(4, 5)\n",
    "\n",
    "\n",
    "result_add = v1 + v2  \n",
    "result_sub = v1 - v2  \n",
    "result_mul = v1 * 3   \n",
    "print(result_add)    \n",
    "print(result_sub)    \n",
    "print(result_mul)    \n",
    "print(v1 == v2)"
   ]
  },
  {
   "cell_type": "markdown",
   "id": "4a88479f",
   "metadata": {},
   "source": [
    "### 2.2 `Run Time Pollymorphism`\n",
    "#### Known as late binding\n",
    "#### it is resolved during runtime"
   ]
  },
  {
   "cell_type": "markdown",
   "id": "ee794b23",
   "metadata": {},
   "source": [
    "### 2.2.1 Method Overridding\n",
    "#### When we write methods name with same signature in parent and child class called `Method Overridding`."
   ]
  },
  {
   "cell_type": "code",
   "execution_count": 29,
   "id": "a5863b73",
   "metadata": {},
   "outputs": [
    {
     "data": {
      "text/plain": [
       "'B'"
      ]
     },
     "execution_count": 29,
     "metadata": {},
     "output_type": "execute_result"
    }
   ],
   "source": [
    "class A:\n",
    "    def show(self):\n",
    "        return 'A'\n",
    "class B(A):\n",
    "    def show(self):\n",
    "        return 'B'\n",
    "    \n",
    "obj = B()\n",
    "obj.show()"
   ]
  },
  {
   "cell_type": "markdown",
   "id": "dfa1f788",
   "metadata": {},
   "source": [
    "### 2.2.1.1 Super keyword \n",
    "#### used to deal with method overridding"
   ]
  },
  {
   "cell_type": "code",
   "execution_count": 31,
   "id": "7718ccda",
   "metadata": {},
   "outputs": [
    {
     "name": "stdout",
     "output_type": "stream",
     "text": [
      "A B\n"
     ]
    }
   ],
   "source": [
    "class A:\n",
    "    def show(self):\n",
    "        return 'A'\n",
    "\n",
    "class B(A):\n",
    "    def show(self):\n",
    "        result_from_A = super().show()\n",
    "        return f'{result_from_A} B'\n",
    "obj = B()\n",
    "print(obj.show())"
   ]
  },
  {
   "cell_type": "markdown",
   "id": "6194e29d",
   "metadata": {},
   "source": [
    "## 3.Encapsulation\n",
    "#### Python provides access to all variable and methods globally\n",
    "#### By using encapsulation we can restrict the variable and methods access globally by making private and protected \n",
    "#### __ protected\n",
    "#### _ private"
   ]
  },
  {
   "cell_type": "code",
   "execution_count": 39,
   "id": "f846c3cd",
   "metadata": {},
   "outputs": [
    {
     "name": "stdout",
     "output_type": "stream",
     "text": [
      "10\n",
      "10\n",
      "None\n"
     ]
    }
   ],
   "source": [
    "class A:\n",
    "    _a=10 # protected variable\n",
    "    __b=20 # can't use outside class as protected\n",
    "    def show(self):\n",
    "        pass\n",
    "class B(A):\n",
    "    def check(self):\n",
    "        print(self._a)\n",
    "\n",
    "obj = B()\n",
    "print(obj._a)\n",
    "print(obj.check())"
   ]
  },
  {
   "cell_type": "markdown",
   "id": "fdf5b16c",
   "metadata": {},
   "source": [
    "### N.B : In python allmost all are Encapsulated"
   ]
  },
  {
   "cell_type": "markdown",
   "id": "a951efbc",
   "metadata": {},
   "source": [
    "# 4. Abstraction\n",
    "#### It is a process of hiding implementation action details of object and expose relavent features or behaviour to the user . "
   ]
  },
  {
   "cell_type": "code",
   "execution_count": null,
   "id": "3c388ef1",
   "metadata": {},
   "outputs": [],
   "source": []
  },
  {
   "cell_type": "markdown",
   "id": "30eaf6e5",
   "metadata": {},
   "source": [
    "### 4.1 Abstract class\n",
    "#### A class is called abstract class if it has one or more abstract methods .\n",
    "#### Obj of abstract class can't created\n",
    "#### abc module used to work with it\n",
    "#### @abstractmethod"
   ]
  },
  {
   "cell_type": "code",
   "execution_count": 43,
   "id": "eb079b95",
   "metadata": {},
   "outputs": [
    {
     "name": "stdout",
     "output_type": "stream",
     "text": [
      "Let's show \n",
      "Maruti\n"
     ]
    }
   ],
   "source": [
    "from abc import ABC, abstractmethod\n",
    "\n",
    "class car(ABC):\n",
    "    def show(self):\n",
    "        print(\"Let's show \")\n",
    "\n",
    "    @abstractmethod\n",
    "    def speed(self):\n",
    "        pass\n",
    "\n",
    "class maruti(car):\n",
    "    def speed(self):\n",
    "        print(\"Maruti\")\n",
    "\n",
    "obj = maruti()\n",
    "obj.show()\n",
    "obj.speed()"
   ]
  }
 ],
 "metadata": {
  "kernelspec": {
   "display_name": "Python 3 (ipykernel)",
   "language": "python",
   "name": "python3"
  },
  "language_info": {
   "codemirror_mode": {
    "name": "ipython",
    "version": 3
   },
   "file_extension": ".py",
   "mimetype": "text/x-python",
   "name": "python",
   "nbconvert_exporter": "python",
   "pygments_lexer": "ipython3",
   "version": "3.11.5"
  }
 },
 "nbformat": 4,
 "nbformat_minor": 5
}
