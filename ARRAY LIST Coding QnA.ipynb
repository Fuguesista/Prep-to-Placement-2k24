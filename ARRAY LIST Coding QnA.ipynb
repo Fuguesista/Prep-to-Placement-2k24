{
 "cells": [
  {
   "cell_type": "markdown",
   "id": "5a468f27",
   "metadata": {},
   "source": [
    "# Array | List"
   ]
  },
  {
   "cell_type": "markdown",
   "id": "ef35d6c4",
   "metadata": {},
   "source": [
    "# Program 1\n",
    "## create delete array"
   ]
  },
  {
   "cell_type": "code",
   "execution_count": 1,
   "id": "1d3cb16a",
   "metadata": {},
   "outputs": [
    {
     "data": {
      "text/plain": [
       "array([1, 2, 3, 4])"
      ]
     },
     "execution_count": 1,
     "metadata": {},
     "output_type": "execute_result"
    }
   ],
   "source": [
    "#create\n",
    "import numpy as np\n",
    "arr1D = np.array([1,2,3,4])\n",
    "arr1D"
   ]
  },
  {
   "cell_type": "code",
   "execution_count": 2,
   "id": "d6b6c04e",
   "metadata": {},
   "outputs": [
    {
     "data": {
      "text/plain": [
       "array([[1, 2, 3, 4],\n",
       "       [3, 4, 6, 7]])"
      ]
     },
     "execution_count": 2,
     "metadata": {},
     "output_type": "execute_result"
    }
   ],
   "source": [
    "arr2D = np.array([[1,2,3,4],[3,4,6,7]])\n",
    "arr2D"
   ]
  },
  {
   "cell_type": "code",
   "execution_count": 3,
   "id": "1c11767f",
   "metadata": {},
   "outputs": [
    {
     "data": {
      "text/plain": [
       "array('i', [1, 2, 3])"
      ]
     },
     "execution_count": 3,
     "metadata": {},
     "output_type": "execute_result"
    }
   ],
   "source": [
    "import array\n",
    "\n",
    "arr1D = array.array('i',[1,2,3])\n",
    "arr1D"
   ]
  },
  {
   "cell_type": "code",
   "execution_count": 4,
   "id": "685a00c0",
   "metadata": {},
   "outputs": [
    {
     "name": "stdout",
     "output_type": "stream",
     "text": [
      "[array('i', [1, 2, 3, 4]), array('i', [3, 4, 6, 7])]\n"
     ]
    }
   ],
   "source": [
    "import array\n",
    "\n",
    "arr1 = array.array('i', [1, 2, 3, 4])\n",
    "arr2 = array.array('i', [3, 4, 6, 7])\n",
    "\n",
    "arr2D = [arr1, arr2]\n",
    "print(arr2D)"
   ]
  },
  {
   "cell_type": "code",
   "execution_count": 5,
   "id": "5b0885ed",
   "metadata": {},
   "outputs": [
    {
     "data": {
      "text/plain": [
       "[2, 5, 33, 8, 9]"
      ]
     },
     "execution_count": 5,
     "metadata": {},
     "output_type": "execute_result"
    }
   ],
   "source": [
    "# insert\n",
    "\n",
    "lst = [2,5,8,9]\n",
    "lst.insert(2,33)\n",
    "lst"
   ]
  },
  {
   "cell_type": "code",
   "execution_count": 6,
   "id": "56dab25a",
   "metadata": {},
   "outputs": [
    {
     "name": "stdout",
     "output_type": "stream",
     "text": [
      "2 5 8 9 "
     ]
    }
   ],
   "source": [
    "#travel\n",
    "lst = [2,5,8,9]\n",
    "for i in lst:\n",
    "    print(i,end=\" \")"
   ]
  },
  {
   "cell_type": "code",
   "execution_count": 7,
   "id": "e476ee75",
   "metadata": {},
   "outputs": [
    {
     "data": {
      "text/plain": [
       "[2, 5, 8]"
      ]
     },
     "execution_count": 7,
     "metadata": {},
     "output_type": "execute_result"
    }
   ],
   "source": [
    "#delete\n",
    "lst = [2,5,8,9]\n",
    "\n",
    "lst.remove(9)\n",
    "lst"
   ]
  },
  {
   "cell_type": "markdown",
   "id": "e375297a",
   "metadata": {},
   "source": [
    "# Program 2\n",
    "## Search / Linear Search"
   ]
  },
  {
   "cell_type": "code",
   "execution_count": 8,
   "id": "355ae619",
   "metadata": {},
   "outputs": [
    {
     "data": {
      "text/plain": [
       "'item found at 3'"
      ]
     },
     "execution_count": 8,
     "metadata": {},
     "output_type": "execute_result"
    }
   ],
   "source": [
    "def linear_serach(lst,item):\n",
    "    \n",
    "    for i in range(len(lst)):\n",
    "        if lst[i]==item:\n",
    "            return f\"item found at {i+1}\"\n",
    "    return \"item not found\"\n",
    "lst=[3,4,5,6]\n",
    "linear_serach(lst,5)"
   ]
  },
  {
   "cell_type": "code",
   "execution_count": 9,
   "id": "950b0a38",
   "metadata": {},
   "outputs": [
    {
     "data": {
      "text/plain": [
       "'item found at 3'"
      ]
     },
     "execution_count": 9,
     "metadata": {},
     "output_type": "execute_result"
    }
   ],
   "source": [
    "def linear_serach(lst,item):\n",
    "    \n",
    "    for i,value in enumerate(lst):\n",
    "        if value==item:\n",
    "            return f\"item found at {i+1}\"\n",
    "    return \"item not found\"\n",
    "lst=[3,4,5,6]\n",
    "linear_serach(lst,5)"
   ]
  },
  {
   "cell_type": "markdown",
   "id": "621a41ae",
   "metadata": {},
   "source": [
    "# Program 3\n",
    "## Binary Search "
   ]
  },
  {
   "cell_type": "code",
   "execution_count": 10,
   "id": "76cb38ea",
   "metadata": {},
   "outputs": [
    {
     "name": "stdout",
     "output_type": "stream",
     "text": [
      "Item found at index 2\n"
     ]
    }
   ],
   "source": [
    "def binary_search(lst, item):\n",
    "    low, high = 0, len(lst) - 1\n",
    "\n",
    "    while low <= high:\n",
    "        mid = (low + high) // 2\n",
    "        mid_value = lst[mid]\n",
    "\n",
    "        if mid_value == item:\n",
    "            return f\"Item found at index {mid}\"\n",
    "        elif mid_value < item:\n",
    "            low = mid + 1\n",
    "        else:\n",
    "            high = mid - 1\n",
    "\n",
    "    return \"Item not found\"\n",
    "\n",
    "lst = [3, 4, 5, 6]\n",
    "result = binary_search(lst, 5)\n",
    "print(result)"
   ]
  },
  {
   "cell_type": "markdown",
   "id": "4e0ddc5f",
   "metadata": {},
   "source": [
    "# Program 4\n",
    "## Find max element in array"
   ]
  },
  {
   "cell_type": "code",
   "execution_count": 11,
   "id": "2b23f586",
   "metadata": {},
   "outputs": [
    {
     "name": "stdout",
     "output_type": "stream",
     "text": [
      "8\n"
     ]
    }
   ],
   "source": [
    "lst = [3, 6, 8, 5, 4]\n",
    "\n",
    "max_value = lst[0]\n",
    "\n",
    "for i in lst:\n",
    "    if i > max_value:\n",
    "        max_value = i\n",
    "\n",
    "print(max_value)"
   ]
  },
  {
   "cell_type": "markdown",
   "id": "8d056c2e",
   "metadata": {},
   "source": [
    "# Program 5\n",
    "## Find min element in array"
   ]
  },
  {
   "cell_type": "code",
   "execution_count": 12,
   "id": "9539c0f3",
   "metadata": {},
   "outputs": [
    {
     "name": "stdout",
     "output_type": "stream",
     "text": [
      "1\n"
     ]
    }
   ],
   "source": [
    "lst = [3,4,5,6,1]\n",
    "minn = lst[0]\n",
    "\n",
    "for i in lst:\n",
    "    if i<minn:\n",
    "        minn=i\n",
    "print(minn)"
   ]
  },
  {
   "cell_type": "markdown",
   "id": "0cd1bbb8",
   "metadata": {},
   "source": [
    "# Program 6\n",
    "## Find the \"Kth\" largest and smallest element in an unsorted array"
   ]
  },
  {
   "cell_type": "code",
   "execution_count": 13,
   "id": "238aa369",
   "metadata": {},
   "outputs": [
    {
     "name": "stdout",
     "output_type": "stream",
     "text": [
      "largest 2th is 8 and smallest 2th is 3\n"
     ]
    }
   ],
   "source": [
    "def kth(lst,k):\n",
    "    lst1 = sorted(lst)\n",
    "    return f\"largest {k}th is {lst1[-k]} and smallest {k}th is {lst1[k-1]}\"\n",
    "lst=[5,8,9,3,5,1]\n",
    "k=2\n",
    "print(kth(lst,k))"
   ]
  },
  {
   "cell_type": "markdown",
   "id": "c241f851",
   "metadata": {},
   "source": [
    "# Program 7\n",
    "## Find the second largest element in an array."
   ]
  },
  {
   "cell_type": "code",
   "execution_count": 14,
   "id": "a7d6f0fd",
   "metadata": {},
   "outputs": [
    {
     "data": {
      "text/plain": [
       "8"
      ]
     },
     "execution_count": 14,
     "metadata": {},
     "output_type": "execute_result"
    }
   ],
   "source": [
    "#way 1\n",
    "\n",
    "def second(lst):\n",
    "    lst=sorted(lst)\n",
    "    return lst[-2]\n",
    "lst=[5,8,9,3,5,1]\n",
    "second(lst)"
   ]
  },
  {
   "cell_type": "markdown",
   "id": "5a5820db",
   "metadata": {},
   "source": [
    "# Program 8\n",
    "## Find the second largest element in an array duplicacy is there"
   ]
  },
  {
   "cell_type": "code",
   "execution_count": 15,
   "id": "6399f010",
   "metadata": {},
   "outputs": [
    {
     "data": {
      "text/plain": [
       "8"
      ]
     },
     "execution_count": 15,
     "metadata": {},
     "output_type": "execute_result"
    }
   ],
   "source": [
    "def second(lst):\n",
    "    lst=list(set(sorted(lst)))\n",
    "    return lst[-2]\n",
    "lst=[5,8,9,9,9,9,3,5,1]\n",
    "second(lst)"
   ]
  },
  {
   "cell_type": "code",
   "execution_count": 16,
   "id": "91b1b44a",
   "metadata": {},
   "outputs": [
    {
     "data": {
      "text/plain": [
       "8"
      ]
     },
     "execution_count": 16,
     "metadata": {},
     "output_type": "execute_result"
    }
   ],
   "source": [
    "def second(lst):\n",
    "    lst=list(sorted(set(lst)))\n",
    "    return lst[-2]\n",
    "lst=[5,8,9,9,9,9,3,5,1]\n",
    "second(lst)"
   ]
  },
  {
   "cell_type": "markdown",
   "id": "56116eb6",
   "metadata": {},
   "source": [
    "# Program 9\n",
    "## Find the sum of all elements in an array"
   ]
  },
  {
   "cell_type": "code",
   "execution_count": 17,
   "id": "5e18a290",
   "metadata": {},
   "outputs": [
    {
     "data": {
      "text/plain": [
       "14"
      ]
     },
     "execution_count": 17,
     "metadata": {},
     "output_type": "execute_result"
    }
   ],
   "source": [
    "def sum_elements(array):\n",
    "    sum=0\n",
    "    for i in array:\n",
    "        sum=sum+i\n",
    "    return sum\n",
    "sum_elements([2,3,4,5])"
   ]
  },
  {
   "cell_type": "code",
   "execution_count": 18,
   "id": "fc597099",
   "metadata": {},
   "outputs": [
    {
     "data": {
      "text/plain": [
       "14"
      ]
     },
     "execution_count": 18,
     "metadata": {},
     "output_type": "execute_result"
    }
   ],
   "source": [
    "def sum_elements(array):\n",
    "    summ=sum(array)\n",
    "    return summ\n",
    "sum_elements([2,3,4,5])"
   ]
  },
  {
   "cell_type": "markdown",
   "id": "4e2e17e2",
   "metadata": {},
   "source": [
    "# Program 10\n",
    "# Find the product of all elements in an array."
   ]
  },
  {
   "cell_type": "code",
   "execution_count": 19,
   "id": "ef863bba",
   "metadata": {},
   "outputs": [
    {
     "data": {
      "text/plain": [
       "24"
      ]
     },
     "execution_count": 19,
     "metadata": {},
     "output_type": "execute_result"
    }
   ],
   "source": [
    "def prod(array):\n",
    "    pro=1\n",
    "    for i in array:\n",
    "        pro=pro*i\n",
    "    return pro\n",
    "prod([2,3,4])"
   ]
  },
  {
   "cell_type": "markdown",
   "id": "61f82053",
   "metadata": {},
   "source": [
    "# program 11\n",
    "## Check if an array is sorted (in ascending or descending order)"
   ]
  },
  {
   "cell_type": "code",
   "execution_count": 20,
   "id": "696085bc",
   "metadata": {},
   "outputs": [
    {
     "data": {
      "text/plain": [
       "False"
      ]
     },
     "execution_count": 20,
     "metadata": {},
     "output_type": "execute_result"
    }
   ],
   "source": [
    "def sort_check(array):\n",
    "    if array==sorted(array) or array==sorted(array,reverse=True):\n",
    "        return True\n",
    "    else:\n",
    "        return False\n",
    "sort_check([1,5,7,3])"
   ]
  },
  {
   "cell_type": "markdown",
   "id": "9800c394",
   "metadata": {},
   "source": [
    "# Program 12\n",
    "## Remove duplicates from an array"
   ]
  },
  {
   "cell_type": "code",
   "execution_count": 21,
   "id": "1bf940ef",
   "metadata": {},
   "outputs": [
    {
     "data": {
      "text/plain": [
       "[1, 4, 5]"
      ]
     },
     "execution_count": 21,
     "metadata": {},
     "output_type": "execute_result"
    }
   ],
   "source": [
    "def remove(array):\n",
    "    lst=list(set(array))\n",
    "    return lst\n",
    "remove([1,4,4,5])"
   ]
  },
  {
   "cell_type": "markdown",
   "id": "11248c30",
   "metadata": {},
   "source": [
    "# Program 13\n",
    "## Find the common elements in two arrays / Find the intersection of two arrays"
   ]
  },
  {
   "cell_type": "code",
   "execution_count": 22,
   "id": "dd39d953",
   "metadata": {},
   "outputs": [
    {
     "data": {
      "text/plain": [
       "[3, 4]"
      ]
     },
     "execution_count": 22,
     "metadata": {},
     "output_type": "execute_result"
    }
   ],
   "source": [
    "def common(lst1,lst2):\n",
    "    set1=set(lst1)\n",
    "    set2=set(lst2)\n",
    "    intersection = set1 & set2\n",
    "    return list(intersection)\n",
    "lst1=[1,2,3,4]\n",
    "lst2=[3,4,5,6]\n",
    "common(lst1,lst2)"
   ]
  },
  {
   "cell_type": "code",
   "execution_count": 23,
   "id": "8527fb22",
   "metadata": {},
   "outputs": [
    {
     "data": {
      "text/plain": [
       "[3, 4]"
      ]
     },
     "execution_count": 23,
     "metadata": {},
     "output_type": "execute_result"
    }
   ],
   "source": [
    "def common(lst1,lst2):\n",
    "    set1=set(lst1)\n",
    "    set2=set(lst2)\n",
    "    intersection = set1.intersection(set2)\n",
    "    return list(intersection)\n",
    "lst1=[1,2,3,4]\n",
    "lst2=[3,4,5,6]\n",
    "common(lst1,lst2)"
   ]
  },
  {
   "cell_type": "markdown",
   "id": "f7d21c03",
   "metadata": {},
   "source": [
    "# Program 14\n",
    "## Find the union of two arrays"
   ]
  },
  {
   "cell_type": "code",
   "execution_count": 24,
   "id": "f919159e",
   "metadata": {},
   "outputs": [
    {
     "data": {
      "text/plain": [
       "[1, 2, 3, 4, 5, 6]"
      ]
     },
     "execution_count": 24,
     "metadata": {},
     "output_type": "execute_result"
    }
   ],
   "source": [
    "def common(lst1,lst2):\n",
    "    set1=set(lst1)\n",
    "    set2=set(lst2)\n",
    "    union = set1 | set2\n",
    "    return list(union)\n",
    "lst1=[1,2,3,4]\n",
    "lst2=[3,4,5,6]\n",
    "common(lst1,lst2)"
   ]
  },
  {
   "cell_type": "code",
   "execution_count": 25,
   "id": "04edfde1",
   "metadata": {},
   "outputs": [
    {
     "data": {
      "text/plain": [
       "[1, 2, 3, 4, 5, 6]"
      ]
     },
     "execution_count": 25,
     "metadata": {},
     "output_type": "execute_result"
    }
   ],
   "source": [
    "def common(lst1,lst2):\n",
    "    set1=set(lst1)\n",
    "    set2=set(lst2)\n",
    "    union = set1.union(set2)\n",
    "    return list(union)\n",
    "lst1=[1,2,3,4]\n",
    "lst2=[3,4,5,6]\n",
    "common(lst1,lst2)"
   ]
  },
  {
   "cell_type": "markdown",
   "id": "1423548c",
   "metadata": {},
   "source": [
    "# Program 15\n",
    "## Find the missing number in a given range of numbers"
   ]
  },
  {
   "cell_type": "code",
   "execution_count": 26,
   "id": "afde4d00",
   "metadata": {},
   "outputs": [
    {
     "name": "stdout",
     "output_type": "stream",
     "text": [
      "4\n"
     ]
    }
   ],
   "source": [
    "def find_missing_number(arr, n):\n",
    "    total_sum = n * (n + 1) // 2\n",
    "    arr_sum = sum(arr)\n",
    "    return total_sum - arr_sum\n",
    "\n",
    "arr = [1, 2, 3, 5]\n",
    "n = 5\n",
    "missing_number = find_missing_number(arr, n)\n",
    "print(missing_number)"
   ]
  },
  {
   "cell_type": "markdown",
   "id": "35b6c76a",
   "metadata": {},
   "source": [
    "# Program 16\n",
    "## Rearrange positive and negative numbers in an array"
   ]
  },
  {
   "cell_type": "code",
   "execution_count": 27,
   "id": "b7110ec5",
   "metadata": {},
   "outputs": [
    {
     "data": {
      "text/plain": [
       "[90, 9, 8, -1, -5, -9]"
      ]
     },
     "execution_count": 27,
     "metadata": {},
     "output_type": "execute_result"
    }
   ],
   "source": [
    "def rearrange(array):\n",
    "    arr = sorted(array,reverse=True)\n",
    "    return arr\n",
    "array=[-1,8,9,-5,-9,90]\n",
    "rearrange(array)"
   ]
  },
  {
   "cell_type": "markdown",
   "id": "a58cf41a",
   "metadata": {},
   "source": [
    "# Program 17\n",
    "## Move all zeroes to the end of an array"
   ]
  },
  {
   "cell_type": "code",
   "execution_count": 28,
   "id": "67396bf2",
   "metadata": {},
   "outputs": [
    {
     "data": {
      "text/plain": [
       "[2, 3, 4, 7, 8, 9, 0, 0, 0]"
      ]
     },
     "execution_count": 28,
     "metadata": {},
     "output_type": "execute_result"
    }
   ],
   "source": [
    "def move(array):\n",
    "    non = 0\n",
    "    for i in range(len(array)):\n",
    "        if array[i]!=0:\n",
    "            array[non],array[i]=array[i],array[non]\n",
    "            non+=1\n",
    "    return array\n",
    "move([2,3,4,0,0,0,7,8,9])"
   ]
  },
  {
   "cell_type": "markdown",
   "id": "946b8c7e",
   "metadata": {},
   "source": [
    "# Program 18\n",
    "## Rotate an array (left or right) by a given number of steps"
   ]
  },
  {
   "cell_type": "code",
   "execution_count": 29,
   "id": "6c7c22b4",
   "metadata": {},
   "outputs": [
    {
     "name": "stdout",
     "output_type": "stream",
     "text": [
      "[3, 1, 2]\n",
      "[2, 3, 1]\n"
     ]
    }
   ],
   "source": [
    "def rotate_left(array,steps):\n",
    "    n = len(array)\n",
    "    steps = steps%n\n",
    "    return array[steps:]+array[:steps]\n",
    "def rotate_right(array,steps):\n",
    "    n = len(array)\n",
    "    steps=steps%n\n",
    "    return array[-steps:]+array[:-steps]\n",
    "\n",
    "array=[1,2,3]\n",
    "steps=2\n",
    "print(rotate_left(array,steps))\n",
    "\n",
    "print(rotate_right(array,steps))"
   ]
  }
 ],
 "metadata": {
  "kernelspec": {
   "display_name": "Python 3 (ipykernel)",
   "language": "python",
   "name": "python3"
  },
  "language_info": {
   "codemirror_mode": {
    "name": "ipython",
    "version": 3
   },
   "file_extension": ".py",
   "mimetype": "text/x-python",
   "name": "python",
   "nbconvert_exporter": "python",
   "pygments_lexer": "ipython3",
   "version": "3.11.5"
  }
 },
 "nbformat": 4,
 "nbformat_minor": 5
}
